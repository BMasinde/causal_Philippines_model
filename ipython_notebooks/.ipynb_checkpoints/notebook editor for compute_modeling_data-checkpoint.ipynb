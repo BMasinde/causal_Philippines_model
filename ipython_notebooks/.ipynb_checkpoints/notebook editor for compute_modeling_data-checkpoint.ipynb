{
  "nbformat": 4,
  "nbformat_minor": 0,
  "metadata": {
    "kernelspec": {
      "display_name": "R",
      "language": "R",
      "name": "ir"
    },
    "associatedRecipe": "compute_modeling_data",
    "creator": "admin",
    "createdOn": 1739965505918,
    "tags": [
      "recipe-editor"
    ],
    "customFields": {}
  },
  "cells": [
    {
      "cell_type": "code",
      "metadata": {},
      "outputs": [],
      "execution_count": 0,
      "source": [
        "library(dataiku)\n",
        "\n",
        "# Recipe inputs\n",
        "base_data_regions \u003c- dkuReadDataset(\"base_data_regions\", samplingMethod\u003d\"head\", nbRows\u003d100000)\n",
        "\n",
        "# Compute recipe outputs from inputs\n",
        "# TODO: Replace this part by your actual code that computes the output, as a R dataframe or data table\n",
        "modeling_data \u003c- base_data_regions # For this sample code, simply copy input to output\n",
        "\n",
        "\n",
        "# Recipe outputs\n",
        "dkuWriteDataset(modeling_data,\"modeling_data\")"
      ]
    }
  ]
}