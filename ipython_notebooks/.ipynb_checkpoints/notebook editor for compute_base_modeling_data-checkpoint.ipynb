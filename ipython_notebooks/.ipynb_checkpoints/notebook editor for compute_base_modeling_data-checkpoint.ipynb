{
  "nbformat": 4,
  "nbformat_minor": 0,
  "metadata": {
    "kernelspec": {
      "display_name": "R",
      "language": "R",
      "name": "ir"
    },
    "associatedRecipe": "compute_base_modeling_data",
    "creator": "admin",
    "createdOn": 1739957019453,
    "tags": [
      "recipe-editor"
    ],
    "customFields": {}
  },
  "cells": [
    {
      "cell_type": "code",
      "metadata": {},
      "outputs": [],
      "execution_count": 0,
      "source": [
        "library(dataiku)\n",
        "library(dplyr)\n",
        "\n",
        "# Recipe inputs\n",
        "base_inc_data \u003c- dkuReadDataset(\"base_inc_data\", samplingMethod\u003d\"head\", nbRows\u003d100000)\n",
        "\n",
        "# Compute recipe outputs from inputs\n",
        "base_modeling_data \u003c- base_inc_data %\u003e%\n",
        "\n",
        "\n",
        "\n",
        "# Recipe outputs\n",
        "dkuWriteDataset(base_modeling_data,\"base_modeling_data\")"
      ]
    }
  ]
}