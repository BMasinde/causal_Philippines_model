{
  "nbformat": 4,
  "nbformat_minor": 0,
  "metadata": {
    "kernelspec": {
      "display_name": "R",
      "language": "R",
      "name": "ir"
    },
    "associatedRecipe": "compute_8jrmex16",
    "creator": "admin",
    "createdOn": 1740371188662,
    "tags": [
      "recipe-editor"
    ],
    "customFields": {}
  },
  "cells": [
    {
      "cell_type": "code",
      "metadata": {},
      "outputs": [],
      "execution_count": 0,
      "source": [
        "library(dataiku)\n",
        "\n",
        "# Recipe inputs\n",
        "base_train \u003c- dkuReadDataset(\"base_train\", samplingMethod\u003d\"head\", nbRows\u003d100000)\n",
        "\n",
        "\n",
        "\n",
        "# Recipe outputs\n",
        "base_scm_classification_model \u003c- dkuManagedFolderPath(\"8jrmex16\")"
      ]
    }
  ]
}