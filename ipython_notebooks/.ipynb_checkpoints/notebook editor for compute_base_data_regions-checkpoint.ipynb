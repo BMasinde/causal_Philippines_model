{
  "metadata": {
    "kernelspec": {
      "name": "r-dku-venv-r_4_4_1",
      "display_name": "R (env R_4_4_1)",
      "language": "R"
    },
    "hide_input": false,
    "language_info": {
      "name": "R",
      "codemirror_mode": "r",
      "pygments_lexer": "r",
      "mimetype": "text/x-r-source",
      "file_extension": ".r",
      "version": "4.4.1"
    },
    "modifiedBy": "admin",
    "tags": [
      "recipe-editor"
    ],
    "associatedRecipe": "compute_base_data_regions",
    "customFields": {},
    "creator": "admin",
    "createdOn": 1739960283035
  },
  "nbformat": 4,
  "nbformat_minor": 1,
  "cells": [
    {
      "execution_count": 0,
      "cell_type": "code",
      "metadata": {},
      "source": [
        "# Adding Regions to the base_inc_data\nlibrary(dataiku)\n\n\n# Regional data, including corresponding codes and names, are obtained from the  \n# Philippine Statistics Authority website: https://psa.gov.ph/classification/psgc.  \n# To access historical data, we use the Wayback Machine to retrieve a snapshot  \n# from June 19, 2020. Specifically, we refer to the file named  \n# *PSGC Publication March 2020.xlsx*. Since the file is small, we enter the data manually.\n# We get Island groups from Wikipedia: https://en.wikipedia.org/wiki/Island_groups_of_the_Philippines\n# NOTE: WE DO NOT HAVE THE NIR REGION IN THE DATASET\n\n# creating a dataframe with regions:\nregion \u003c- c(\u0027National Capital Region\u0027, \n            \u0027Cordillera Administrative Region\u0027,\n            \u0027Ilocos Region\u0027, \n            \u0027Cagayan Valley\u0027, \n            \u0027Central Luzon\u0027,\n            \u0027CALABARZON\u0027, \n            \u0027MIMAROPA Region\u0027,\n            \u0027Bicol Region\u0027,\n            \u0027Western Visayas\u0027,\n            \u0027Central Visayas\u0027,\n            \u0027Eastern Visayas\u0027,\n            \u0027Zamboanga Peninsula\u0027,\n            \u0027Northern Mindanao\u0027, \n            \u0027Davao Region\u0027,\n            \u0027SOCCSKSARGEN\u0027,\n            \u0027Caraga\u0027,\n            \u0027ARMM\u0027)\n\nregion_code \u003c- c(\u00271300000000\u0027,\n                 \u00271400000000\u0027, \n                 \u00270100000000\u0027,\n                 \u00270200000000\u0027,\n                 \u00270300000000\u0027,\n                 \u00270400000000\u0027,\n                 \u00271700000000\u0027,\n                 \u00270500000000\u0027,\n                 \u00270600000000\u0027,\n                 \u00270700000000\u0027,\n                 \u00270800000000\u0027,\n                 \u00270900000000\u0027,\n                 \u00271000000000\u0027,\n                 \u00271100000000\u0027,\n                 \u00271200000000\u0027,\n                 \u00271600000000\u0027,\n                 \u00271500000000\u0027)\n\n\nisland_groups \u003c- c(\"Luzon\", \n                   \"Luzon\", \n                   \"Luzon\", \n                   \"Luzon\", \n                   \"Luzon\", \n                   \"Luzon\", \n                   \"Luzon\", \n                   \"Luzon\",\n                   \"Visayas\", \n                   \"Visayas\", \n                   \"Visayas\", \n                   \"Mindanao\", \n                   \"Mindanao\", \n                   \"Mindanao\",\n                   \"Mindanao\", \n                   \"Mindanao\", \n                   \"Mindanao\"\n                   )\n# creating dataframe with the region names, regional codes, and respective island groups\nregions_df \u003c- as.data.frame(\n    cbind(region_code, \n          region, island_groups\n         )\n)\n\n\n\n# Recipe inputs\nbase_inc_data \u003c- dkuReadDataset(\"base_inc_data\", samplingMethod\u003d\"head\", nbRows\u003d100000)\n\n#\nbase_data_regions \u003c- base_inc_data # For this sample code, simply copy input to output\n\n#\n\n\n\n# Recipe outputs\ndkuWriteDataset(base_data_regions,\"base_data_regions\")"
      ],
      "outputs": []
    }
  ]
}