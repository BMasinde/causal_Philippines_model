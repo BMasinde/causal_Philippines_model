{
  "nbformat": 4,
  "nbformat_minor": 0,
  "metadata": {
    "kernelspec": {
      "display_name": "R",
      "language": "R",
      "name": "ir"
    },
    "associatedRecipe": "recipe_from_notebook_validating_base_scm_models",
    "dkuGit": {
      "lastInteraction": 0
    },
    "creationTag": {
      "versionNumber": 0,
      "lastModifiedBy": {
        "login": "admin"
      },
      "lastModifiedOn": 1740369391518
    },
    "creator": "admin",
    "createdOn": 1740369391518,
    "tags": [
      "recipe-editor"
    ],
    "customFields": {}
  },
  "cells": [
    {
      "cell_type": "code",
      "metadata": {},
      "outputs": [],
      "execution_count": 0,
      "source": [
        "library(dataiku)\n",
        "library(rpart)"
      ]
    },
    {
      "cell_type": "code",
      "metadata": {},
      "outputs": [],
      "execution_count": 0,
      "source": [
        "# Recipe inputs\n",
        "scm_base_models \u003c- dkuManagedFolderPath(\"XxDUuuYe\")\n",
        "base_validation \u003c- dkuReadDataset(\"base_validation\", samplingMethod\u003d\"head\", nbRows\u003d100000)\n",
        "\n",
        "\n",
        "\n",
        "# Recipe outputs\n",
        "base_val_scm_models \u003c- dkuManagedFolderPath(\"ZMqSlX9h\")"
      ]
    }
  ]
}