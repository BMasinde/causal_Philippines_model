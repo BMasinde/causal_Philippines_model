{
  "nbformat": 4,
  "nbformat_minor": 0,
  "metadata": {
    "kernelspec": {
      "display_name": "R",
      "language": "R",
      "name": "ir"
    },
    "associatedRecipe": "compute_UZJr2jaH",
    "dkuGit": {
      "lastInteraction": 0
    },
    "creationTag": {
      "versionNumber": 0,
      "lastModifiedBy": {
        "login": "admin"
      },
      "lastModifiedOn": 1740127855538
    },
    "creator": "admin",
    "createdOn": 1740127855538,
    "tags": [
      "recipe-editor"
    ],
    "customFields": {}
  },
  "cells": [
    {
      "cell_type": "code",
      "metadata": {},
      "outputs": [],
      "execution_count": 0,
      "source": [
        "# Load required libraries\n",
        "library(dataiku)\n",
        "library(mlflow)\n",
        "library(reticulate)"
      ]
    },
    {
      "cell_type": "code",
      "metadata": {},
      "outputs": [],
      "execution_count": 0,
      "source": [
        "# Set up Dataiku Managed Folders\n",
        "scm_models \u003c- dkuManagedFolderPath(\"XxDUuuYe\")  # Input Managed Folder\n",
        "mlflow_output \u003c- dkuManagedFolderPath(\"UZJr2jaH\")  # Output Managed Folder\n",
        "\n",
        "# Load trained R model from the Managed Folder\n",
        "model_path \u003c- file.path(scm_models, \"base_wind_max_model.rds\")\n",
        "model \u003c- readRDS(model_path)"
      ]
    },
    {
      "cell_type": "code",
      "metadata": {},
      "outputs": [],
      "execution_count": 0,
      "source": [
        "# Set MLflow Tracking URI (optional: customize if using external MLflow server)\n",
        "mlflow_set_tracking_uri(\"file:///mlruns\")  # Change this if using a remote MLflow server\n",
        "\n",
        "# Start MLflow experiment\n",
        "mlflow_set_experiment(\"wind_prediction_experiment\")\n",
        "\n",
        "# Start MLflow run\n",
        "mlflow_start_run()\n",
        "\n",
        "# Log model metadata (optional: add parameters or metrics)\n",
        "mlflow_log_param(\"model_type\", \"Regression_Trees\")  # Example: specify model type\n",
        "mlflow_log_metric(\"RMSE\", 7.000)  # Example: log accuracy if available\n",
        "\n",
        "# Log the model in MLflow\n",
        "mlflow_rfunc_model(model, \"base_wind_model\")\n",
        "\n",
        "# Save MLflow model to the Managed Folder\n",
        "mlflow_model_path \u003c- file.path(mlflow_output, \"base_wind_model\")\n",
        "mlflow_save_model(model, mlflow_model_path)\n",
        "\n",
        "# End the MLflow run\n",
        "mlflow_end_run()\n",
        "\n",
        "print(\"Model successfully logged in MLflow and saved to Dataiku Managed Folder.\")"
      ]
    },
    {
      "cell_type": "code",
      "metadata": {},
      "outputs": [],
      "execution_count": 0,
      "source": [
        "reticulate::py_config()"
      ]
    }
  ]
}