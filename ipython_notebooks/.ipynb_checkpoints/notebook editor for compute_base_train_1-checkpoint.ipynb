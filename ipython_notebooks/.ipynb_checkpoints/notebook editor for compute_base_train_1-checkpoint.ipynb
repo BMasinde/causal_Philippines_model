{
  "nbformat": 4,
  "nbformat_minor": 0,
  "metadata": {
    "kernelspec": {
      "display_name": "R",
      "language": "R",
      "name": "ir"
    },
    "associatedRecipe": "compute_base_train",
    "creator": "admin",
    "createdOn": 1740066610508,
    "tags": [
      "recipe-editor"
    ],
    "customFields": {}
  },
  "cells": [
    {
      "cell_type": "code",
      "metadata": {},
      "outputs": [],
      "execution_count": 0,
      "source": [
        "library(dataiku)\n",
        "\n",
        "# Recipe inputs\n",
        "modeling_data \u003c- dkuReadDataset(\"modeling_data\", samplingMethod\u003d\"head\", nbRows\u003d100000)\n",
        "\n",
        "# Compute recipe outputs\n",
        "# TODO: Write here your actual code that computes the outputs\n",
        "base_train \u003c- replace_me # Compute a data frame for the output to write into base_train\n",
        "base_test \u003c- replace_me # Compute a data frame for the output to write into base_test\n",
        "base_validation \u003c- replace_me # Compute a data frame for the output to write into base_validation\n",
        "truncated_train \u003c- replace_me # Compute a data frame for the output to write into truncated_train\n",
        "truncated_validation \u003c- replace_me # Compute a data frame for the output to write into truncated_validation\n",
        "truncated_test \u003c- replace_me # Compute a data frame for the output to write into truncated_test\n",
        "\n",
        "\n",
        "# Recipe outputs\n",
        "dkuWriteDataset(base_train,\"base_train\")\n",
        "dkuWriteDataset(base_test,\"base_test\")\n",
        "dkuWriteDataset(base_validation,\"base_validation\")\n",
        "dkuWriteDataset(truncated_train,\"truncated_train\")\n",
        "dkuWriteDataset(truncated_validation,\"truncated_validation\")\n",
        "dkuWriteDataset(truncated_test,\"truncated_test\")"
      ]
    }
  ]
}