{
  "nbformat": 4,
  "nbformat_minor": 0,
  "metadata": {
    "kernelspec": {
      "display_name": "R",
      "language": "R",
      "name": "ir"
    },
    "associatedRecipe": "recipe_from_notebook_base_wind_pred",
    "dkuGit": {
      "lastInteraction": 0
    },
    "creationTag": {
      "versionNumber": 0,
      "lastModifiedBy": {
        "login": "admin"
      },
      "lastModifiedOn": 1740082998652
    },
    "creator": "admin",
    "createdOn": 1740082998652,
    "tags": [
      "recipe-editor"
    ],
    "customFields": {}
  },
  "cells": [
    {
      "cell_type": "markdown",
      "metadata": {},
      "source": [
        "# Model Predicting Effect of Track on Wind\n",
        "As determined in exploratory data analysis, the relationship between maximum sustained wind speed and the track distance between municipality and the tropical cyclone\u0027s path is non-linear. To capture this non-linearity, we use decision trees."
      ]
    },
    {
      "cell_type": "code",
      "metadata": {},
      "outputs": [],
      "execution_count": 0,
      "source": [
        "# Libraries\n",
        "library(dataiku)\n",
        "library(rpart) # decision trees library"
      ]
    },
    {
      "cell_type": "code",
      "metadata": {},
      "outputs": [],
      "execution_count": 0,
      "source": [
        "# Read the dataset as a R dataframe in memory\n",
        "# Note: here, we only read the first 100K rows. Other sampling options are available\n",
        "df_base_train \u003c- dkuReadDataset(\"base_train\", samplingMethod\u003d\"head\", nbRows\u003d100000)"
      ]
    },
    {
      "cell_type": "code",
      "metadata": {},
      "outputs": [],
      "execution_count": 0,
      "source": [
        "# training on base_train data\n",
        "wind_max_fit \u003c- rpart(wind_max ~ track_min_dist,\n",
        "                       data \u003d df_base_train,\n",
        "                       method \u003d \"anova\")"
      ]
    },
    {
      "cell_type": "code",
      "metadata": {},
      "outputs": [],
      "execution_count": 0,
      "source": [
        "# predict\n",
        "wind_max_pred \u003c- predict(wind_max_fit,\n",
        "                         newdata \u003d df_base_train)"
      ]
    },
    {
      "cell_type": "code",
      "metadata": {},
      "outputs": [],
      "execution_count": 0,
      "source": [
        "# Recipe outputs\n",
        "dkuWriteDataset(base_wind_pred,\"base_wind_pred\")"
      ]
    }
  ]
}