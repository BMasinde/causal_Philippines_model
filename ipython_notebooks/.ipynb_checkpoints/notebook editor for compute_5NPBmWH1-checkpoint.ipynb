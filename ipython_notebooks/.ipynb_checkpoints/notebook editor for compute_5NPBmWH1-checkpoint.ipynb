{
  "nbformat": 4,
  "nbformat_minor": 0,
  "metadata": {
    "kernelspec": {
      "display_name": "R",
      "language": "R",
      "name": "ir"
    },
    "associatedRecipe": "compute_5NPBmWH1",
    "creator": "admin",
    "createdOn": 1740404151033,
    "tags": [
      "recipe-editor"
    ],
    "customFields": {}
  },
  "cells": [
    {
      "cell_type": "code",
      "metadata": {},
      "outputs": [],
      "execution_count": 0,
      "source": [
        "library(dataiku)\n",
        "\n",
        "# Recipe inputs\n",
        "base_scm_clas_min_model \u003c- dkuManagedFolderPath(\"xcPrnvPS\")\n",
        "base_scm_reg_min_model \u003c- dkuManagedFolderPath(\"ZijSaAqQ\")\n",
        "trunk_scm_min_model \u003c- dkuManagedFolderPath(\"dL4i4SKb\")\n",
        "\n",
        "\n",
        "\n",
        "# Recipe outputs\n",
        "hurdle_predictions_testing \u003c- dkuManagedFolderPath(\"5NPBmWH1\")"
      ]
    }
  ]
}