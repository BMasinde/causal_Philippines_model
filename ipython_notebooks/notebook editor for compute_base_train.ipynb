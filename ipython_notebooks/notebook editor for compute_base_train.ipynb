{
  "metadata": {
    "kernelspec": {
      "name": "r-dku-venv-r_4_4_1",
      "display_name": "R (env R_4_4_1)",
      "language": "R"
    },
    "hide_input": false,
    "language_info": {
      "name": "R",
      "codemirror_mode": "r",
      "pygments_lexer": "r",
      "mimetype": "text/x-r-source",
      "file_extension": ".r",
      "version": "4.4.1"
    },
    "tags": [
      "deleted-recipe-editor"
    ],
    "customFields": {},
    "creator": "admin",
    "createdOn": 1740064973357,
    "modifiedBy": "admin"
  },
  "nbformat": 4,
  "nbformat_minor": 1,
  "cells": [
    {
      "cell_type": "markdown",
      "metadata": {},
      "source": [
        "# "
      ]
    },
    {
      "execution_count": 0,
      "cell_type": "code",
      "metadata": {},
      "source": [
        "library(dataiku)\n\n# Recipe inputs\nmodeling_data \u003c- dkuReadDataset(\"modeling_data\", samplingMethod\u003d\"head\", nbRows\u003d100000)\n\n# Compute recipe outputs from inputs\n# TODO: Replace this part by your actual code that computes the output, as a R dataframe or data table\nbase_train \u003c- modeling_data # For this sample code, simply copy input to output\n\n\n# Recipe outputs\ndkuWriteDataset(base_train,\"base_train\")"
      ],
      "outputs": []
    }
  ]
}