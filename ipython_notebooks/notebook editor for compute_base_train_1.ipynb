{
  "metadata": {
    "kernelspec": {
      "name": "r-dku-venv-r_4_4_1",
      "display_name": "R (env R_4_4_1)",
      "language": "R"
    },
    "hide_input": false,
    "language_info": {
      "name": "R",
      "codemirror_mode": "r",
      "pygments_lexer": "r",
      "mimetype": "text/x-r-source",
      "file_extension": ".r",
      "version": "4.4.1"
    },
    "tags": [
      "recipe-editor"
    ],
    "associatedRecipe": "compute_base_train",
    "customFields": {},
    "creator": "admin",
    "createdOn": 1740066610508,
    "modifiedBy": "admin"
  },
  "nbformat": 4,
  "nbformat_minor": 1,
  "cells": [
    {
      "cell_type": "markdown",
      "metadata": {},
      "source": [
        "# Train, Test, and Validation Dataset Creation"
      ]
    },
    {
      "cell_type": "markdown",
      "metadata": {},
      "source": [
        "We do a 60/20/20 split to create the datasets."
      ]
    },
    {
      "execution_count": 0,
      "cell_type": "code",
      "metadata": {},
      "source": [
        "library(dataiku)\n\n# Recipe inputs\nmodeling_data \u003c- dkuReadDataset(\"modeling_data\", samplingMethod\u003d\"head\", nbRows\u003d100000)\n\n\n\n# Compute recipe outputs\n# TODO: Write here your actual code that computes the outputs\nbase_train \u003c- replace_me # Compute a data frame for the output to write into base_train\nbase_test \u003c- replace_me # Compute a data frame for the output to write into base_test\nbase_validation \u003c- replace_me # Compute a data frame for the output to write into base_validation\ntruncated_train \u003c- replace_me # Compute a data frame for the output to write into truncated_train\ntruncated_validation \u003c- replace_me # Compute a data frame for the output to write into truncated_validation\ntruncated_test \u003c- replace_me # Compute a data frame for the output to write into truncated_test\n\n\n# Recipe outputs\ndkuWriteDataset(base_train,\"base_train\")\ndkuWriteDataset(base_test,\"base_test\")\ndkuWriteDataset(base_validation,\"base_validation\")\ndkuWriteDataset(truncated_train,\"truncated_train\")\ndkuWriteDataset(truncated_validation,\"truncated_validation\")\ndkuWriteDataset(truncated_test,\"truncated_test\")"
      ],
      "outputs": []
    }
  ]
}