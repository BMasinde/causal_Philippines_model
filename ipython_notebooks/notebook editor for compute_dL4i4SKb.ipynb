{
  "metadata": {
    "kernelspec": {
      "name": "r-dku-venv-r_env",
      "display_name": "R (env R_env)",
      "language": "R"
    },
    "hide_input": false,
    "language_info": {
      "name": "R",
      "codemirror_mode": "r",
      "pygments_lexer": "r",
      "mimetype": "text/x-r-source",
      "file_extension": ".r",
      "version": "4.4.1"
    },
    "createdOn": 1740401186894,
    "customFields": {},
    "creator": "admin",
    "tags": [
      "recipe-editor"
    ],
    "associatedRecipe": "compute_dL4i4SKb",
    "modifiedBy": "admin"
  },
  "nbformat": 4,
  "nbformat_minor": 1,
  "cells": [
    {
      "execution_count": 0,
      "cell_type": "code",
      "metadata": {},
      "source": [
        "library(dataiku)\nlibrary(rpart)\nlibrary(dplyr)\nlibrary(caret)\nlibrary(data.table)\nlibrary(mlflow)\nlibrary(reticulate)\nlibrary(Metrics)"
      ],
      "outputs": []
    },
    {
      "execution_count": 0,
      "cell_type": "code",
      "metadata": {},
      "source": [
        "# Recipe inputs\ntruncated_train \u003c- dkuReadDataset(\"truncated_train\", samplingMethod\u003d\"head\", nbRows\u003d100000)\ntruncated_validation \u003c- dkuReadDataset(\"truncated_validation\", samplingMethod\u003d\"head\", nbRows\u003d100000)"
      ],
      "outputs": []
    },
    {
      "execution_count": 0,
      "cell_type": "code",
      "metadata": {},
      "source": [
        "# Fitting tree for wind and rain\n# wind_max prediction using decision trees\n\ntrunc_wind_model \u003c- rpart(wind_max ~ track_min_dist, \n                       data \u003d df_high_train, \n                       method \u003d \"anova\")\n\ntrunc_wind_max_pred_high \u003c- predict(wind_max_fit_high, \n                         newdata \u003d df_high_train)"
      ],
      "outputs": []
    },
    {
      "execution_count": 0,
      "cell_type": "code",
      "metadata": {},
      "source": [
        "# Recipe outputs\ntrunk_scm_min_model \u003c- dkuManagedFolderPath(\"dL4i4SKb\")"
      ],
      "outputs": []
    }
  ]
}