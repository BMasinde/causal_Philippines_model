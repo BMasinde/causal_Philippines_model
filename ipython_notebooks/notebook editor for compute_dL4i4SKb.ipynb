{
  "metadata": {
    "kernelspec": {
      "name": "r-dku-venv-r_env",
      "display_name": "R (env R_env)",
      "language": "R"
    },
    "hide_input": false,
    "language_info": {
      "name": "R",
      "codemirror_mode": "r",
      "pygments_lexer": "r",
      "mimetype": "text/x-r-source",
      "file_extension": ".r",
      "version": "4.4.1"
    },
    "createdOn": 1740401186894,
    "customFields": {},
    "creator": "admin",
    "tags": [
      "recipe-editor"
    ],
    "associatedRecipe": "compute_dL4i4SKb",
    "modifiedBy": "admin"
  },
  "nbformat": 4,
  "nbformat_minor": 1,
  "cells": [
    {
      "execution_count": 0,
      "cell_type": "code",
      "metadata": {},
      "source": [
        "library(dataiku)\nlibrary(rpart)\nlibrary(dplyr)\nlibrary(caret)\nlibrary(data.table)\nlibrary(mlflow)\nlibrary(reticulate)\nlibrary(Metrics)"
      ],
      "outputs": []
    },
    {
      "execution_count": 0,
      "cell_type": "code",
      "metadata": {},
      "source": [
        "# Recipe inputs\ntruncated_train \u003c- dkuReadDataset(\"truncated_train\", samplingMethod\u003d\"head\", nbRows\u003d100000)\ntruncated_validation \u003c- dkuReadDataset(\"truncated_validation\", samplingMethod\u003d\"head\", nbRows\u003d100000)"
      ],
      "outputs": []
    },
    {
      "execution_count": 0,
      "cell_type": "code",
      "metadata": {},
      "source": [
        "# Fitting tree for wind and rain\n# wind_max prediction using decision trees\n\ntrunc_wind_model \u003c- rpart(wind_max ~ track_min_dist, \n                       data \u003d truncated_train, \n                       method \u003d \"anova\")\n\ntrunc_rain_model \u003c- rpart(rain_total ~ track_min_dist, \n                       data \u003d truncated_train, \n                       method \u003d \"anova\")"
      ],
      "outputs": []
    },
    {
      "execution_count": 0,
      "cell_type": "code",
      "metadata": {},
      "source": [
        "# add the predictions of wind and rainfall to the dataframes\ndf_trunc_train \u003c- truncated_train %\u003e%\n  mutate(wind_max_pred \u003d predict(trunc_wind_model, \n                         newdata \u003d truncated_train), \n         rain_total_pred \u003d predict(trunc_rain_model, \n                         newdata \u003d truncated_train)\n        )\n\ntrunc_damage_fit_reg \u003c- rpart(damage_perc ~ wind_max_pred + \n                           rain_total_pred + \n                           roof_strong_wall_strong + \n                           roof_strong_wall_light +\n                           roof_strong_wall_salv + \n                           roof_light_wall_strong + \n                           roof_light_wall_light + \n                           roof_light_wall_salv + \n                           roof_salv_wall_strong +\n                           roof_salv_wall_light +\n                           roof_salv_wall_salv +\n                           ls_risk_pct +\n                           ss_risk_pct +\n                           ruggedness_mean +\n                           slope_mean +\n                           wind_blue_ss +\n                           wind_yellow_ss +          \n                           wind_orange_ss +          \n                           wind_red_ss +\n                           rain_blue_ss +\n                           rain_yellow_ss +\n                           rain_orange_ss +\n                           rain_red_ss, \n                         method \u003d \"anova\", \n                         data \u003d df_high_train)"
      ],
      "outputs": []
    },
    {
      "execution_count": 0,
      "cell_type": "code",
      "metadata": {},
      "source": [
        "# Recipe outputs\ntrunk_scm_min_model \u003c- dkuManagedFolderPath(\"dL4i4SKb\")"
      ],
      "outputs": []
    }
  ]
}