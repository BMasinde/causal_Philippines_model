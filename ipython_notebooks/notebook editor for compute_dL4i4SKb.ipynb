{
  "metadata": {
    "kernelspec": {
      "name": "r-dku-venv-r_env",
      "display_name": "R (env R_env)",
      "language": "R"
    },
    "hide_input": false,
    "language_info": {
      "name": "R",
      "codemirror_mode": "r",
      "pygments_lexer": "r",
      "mimetype": "text/x-r-source",
      "file_extension": ".r",
      "version": "4.4.1"
    },
    "createdOn": 1740401186894,
    "customFields": {},
    "creator": "admin",
    "tags": [
      "recipe-editor"
    ],
    "associatedRecipe": "compute_dL4i4SKb",
    "modifiedBy": "admin"
  },
  "nbformat": 4,
  "nbformat_minor": 1,
  "cells": [
    {
      "execution_count": 0,
      "cell_type": "code",
      "metadata": {},
      "source": [
        "library(dataiku)\nlibrary(rpart)\nlibrary(dplyr)\nlibrary(caret)\nlibrary(data.table)\nlibrary(mlflow)\nlibrary(reticulate)\nlibrary(Metrics)"
      ],
      "outputs": []
    },
    {
      "execution_count": 0,
      "cell_type": "code",
      "metadata": {},
      "source": [
        "# Recipe inputs\ntruncated_train \u003c- dkuReadDataset(\"truncated_train\", samplingMethod\u003d\"head\", nbRows\u003d100000)\ntruncated_validation \u003c- dkuReadDataset(\"truncated_validation\", samplingMethod\u003d\"head\", nbRows\u003d100000)"
      ],
      "outputs": []
    },
    {
      "execution_count": 0,
      "cell_type": "code",
      "metadata": {},
      "source": [
        "# Fitting tree for wind and rain\n# wind_max prediction using decision trees\n\ntrunc_wind_model \u003c- rpart(wind_max ~ track_min_dist, \n                       data \u003d truncated_train, \n                       method \u003d \"anova\")\n\ntrunc_rain_model \u003c- rpart(rain_total ~ track_min_dist, \n                       data \u003d truncated_train, \n                       method \u003d \"anova\")"
      ],
      "outputs": []
    },
    {
      "execution_count": 0,
      "cell_type": "code",
      "metadata": {},
      "source": [
        "# add the predictions of wind and rainfall to the dataframes\ndf_trunc_train \u003c- truncated_train %\u003e%\n  mutate(wind_max_pred \u003d predict(trunc_wind_model, \n                         newdata \u003d truncated_train), \n         rain_total_pred \u003d predict(trunc_rain_model, \n                         newdata \u003d truncated_train)\n        )"
      ],
      "outputs": []
    },
    {
      "execution_count": 0,
      "cell_type": "code",
      "metadata": {},
      "source": [
        "# predicting for wind and rainfall for the validation dataset on trained high impact\n# WE NEED THIS FOR HYPERPARAMETER TUNING!\ndf_trunc_val \u003c- truncated_validation %\u003e%\n  mutate(\n    wind_max_pred \u003d predict(\n      trunc_wind_model, newdata \u003d truncated_validation),\n    rain_total_pred \u003d predict(\n      trunc_rain_model, \n      newdata \u003d truncated_validation)\n    )"
      ],
      "outputs": []
    },
    {
      "execution_count": 0,
      "cell_type": "code",
      "metadata": {},
      "source": [
        "# Define a grid of hyperparameters same as used for the base model\ncp_values \u003c- seq(0.0001, 0.05, by \u003d 0.0005)\nmaxdepth_values \u003c- c(3, 5, 7, 10)\nminsplit_values \u003c- c(10, 20, 30, 40)\nminbucket_values \u003c- c(5, 10, 20)\n\n# Create an empty list to store results\nresults_high \u003c- data.frame(cp \u003d numeric(), maxdepth \u003d numeric(), \n                      minsplit \u003d numeric(), minbucket \u003d numeric(), RMSE \u003d numeric())\n\n\n\n# Train the model using manual grid search\n# Iterate over all combinations of hyperparameters\nfor (cp in cp_values) {\n  for (maxdepth in maxdepth_values) {\n    for (minsplit in minsplit_values) {\n      for (minbucket in minbucket_values) {\n        \n        # Train the model with specific hyperparameters\n        model \u003c- rpart(\n          damage_perc ~ wind_max_pred + \n            rain_total_pred + \n            roof_strong_wall_strong + \n            roof_strong_wall_light + \n            roof_strong_wall_salv + \n            roof_light_wall_strong + \n            roof_light_wall_light + \n            roof_light_wall_salv + \n            roof_salv_wall_strong + \n            roof_salv_wall_light + \n            roof_salv_wall_salv + \n            ls_risk_pct + \n            ss_risk_pct + \n            wind_blue_ss + \n            wind_yellow_ss + \n            wind_orange_ss + \n            wind_red_ss + \n            rain_blue_ss + \n            rain_yellow_ss + \n            rain_orange_ss + \n            rain_red_ss,\n          data \u003d df_trunc_train,\n          method \u003d \"anova\",  # Regression tree\n          control \u003d rpart.control(cp \u003d cp, maxdepth \u003d maxdepth, \n                                  minsplit \u003d minsplit, minbucket \u003d minbucket)\n        )\n        \n        # Make predictions on the validation set\n        val_predictions \u003c- predict(model, newdata \u003d df_trunc_val)\n        \n        # Compute RMSE\n        rmse_value \u003c- rmse(df_val_high_tune$DAM_perc_dmg, val_predictions)\n        \n        # Store results\n        results_high \u003c- rbind(results, data.frame(cp, maxdepth, minsplit, minbucket, RMSE \u003d rmse_value))\n      }\n    }\n  }\n}\n\n# Print the best hyperparameter combination\nbest_params_high \u003c- results_high[which.min(results_high$RMSE), ]\nprint(best_params_high)"
      ],
      "outputs": []
    },
    {
      "execution_count": 0,
      "cell_type": "code",
      "metadata": {},
      "source": [
        "# add the predictions of wind and rainfall to the dataframes\ndf_trunc_train \u003c- truncated_train %\u003e%\n  mutate(wind_max_pred \u003d predict(trunc_wind_model, \n                         newdata \u003d truncated_train), \n         rain_total_pred \u003d predict(trunc_rain_model, \n                         newdata \u003d truncated_train)\n        )\n\ntrunc_damage_fit_reg \u003c- rpart(damage_perc ~ wind_max_pred + \n                           rain_total_pred + \n                           roof_strong_wall_strong + \n                           roof_strong_wall_light +\n                           roof_strong_wall_salv + \n                           roof_light_wall_strong + \n                           roof_light_wall_light + \n                           roof_light_wall_salv + \n                           roof_salv_wall_strong +\n                           roof_salv_wall_light +\n                           roof_salv_wall_salv +\n                           ls_risk_pct +\n                           ss_risk_pct +\n                           ruggedness_mean +\n                           slope_mean +\n                           wind_blue_ss +\n                           wind_yellow_ss +          \n                           wind_orange_ss +          \n                           wind_red_ss +\n                           rain_blue_ss +\n                           rain_yellow_ss +\n                           rain_orange_ss +\n                           rain_red_ss, \n                         method \u003d \"anova\", \n                         data \u003d df_high_train)"
      ],
      "outputs": []
    },
    {
      "execution_count": 0,
      "cell_type": "code",
      "metadata": {},
      "source": [
        "# Recipe outputs\ntrunk_scm_min_model \u003c- dkuManagedFolderPath(\"dL4i4SKb\")"
      ],
      "outputs": []
    }
  ]
}