{
  "nbformat": 4,
  "nbformat_minor": 0,
  "metadata": {
    "kernelspec": {
      "display_name": "R (env R_env)",
      "language": "R",
      "name": "r-dku-venv-r_env"
    },
    "associatedRecipe": "compute_dL4i4SKb",
    "dkuGit": {
      "lastInteraction": 0
    },
    "creationTag": {
      "versionNumber": 0,
      "lastModifiedBy": {
        "login": "admin"
      },
      "lastModifiedOn": 1740401186894
    },
    "creator": "admin",
    "createdOn": 1740401186894,
    "tags": [
      "recipe-editor"
    ],
    "customFields": {}
  },
  "cells": [
    {
      "cell_type": "code",
      "metadata": {},
      "outputs": [],
      "execution_count": 0,
      "source": [
        "library(dataiku)\n",
        "library(rpart)\n",
        "library(dplyr)\n",
        "library(caret)\n",
        "library(data.table)\n",
        "library(mlflow)\n",
        "library(reticulate)\n",
        "library(Metrics)"
      ]
    },
    {
      "cell_type": "code",
      "metadata": {},
      "outputs": [],
      "execution_count": 0,
      "source": [
        "# Recipe inputs\n",
        "truncated_train \u003c- dkuReadDataset(\"truncated_train\", samplingMethod\u003d\"head\", nbRows\u003d100000)\n",
        "truncated_validation \u003c- dkuReadDataset(\"truncated_validation\", samplingMethod\u003d\"head\", nbRows\u003d100000)"
      ]
    },
    {
      "cell_type": "code",
      "metadata": {},
      "outputs": [],
      "execution_count": 0,
      "source": [
        "# Fitting tree for wind and rain\n",
        "# wind_max prediction using decision trees\n",
        "\n",
        "trunc_wind_model \u003c- rpart(wind_max ~ track_min_dist,\n",
        "                       data \u003d truncated_train,\n",
        "                       method \u003d \"anova\")\n",
        "\n",
        "trunc_rain_model \u003c- rpart(rain_total ~ track_min_dist,\n",
        "                       data \u003d truncated_train,\n",
        "                       method \u003d \"anova\")"
      ]
    },
    {
      "cell_type": "code",
      "metadata": {},
      "outputs": [],
      "execution_count": 0,
      "source": [
        "# add the predictions of wind and rainfall to the dataframes\n",
        "df_trunc_train \u003c- truncated_train %\u003e%\n",
        "  mutate(wind_max_pred \u003d predict(trunc_wind_model,\n",
        "                         newdata \u003d truncated_train),\n",
        "         rain_total_pred \u003d predict(trunc_rain_model,\n",
        "                         newdata \u003d truncated_train)\n",
        "        )"
      ]
    },
    {
      "cell_type": "code",
      "metadata": {},
      "outputs": [],
      "execution_count": 0,
      "source": [
        "# predicting for wind and rainfall for the validation dataset on trained high impact\n",
        "# WE NEED THIS FOR HYPERPARAMETER TUNING!\n",
        "df_trunc_val \u003c- truncated_validation %\u003e%\n",
        "  mutate(\n",
        "    wind_max_pred \u003d predict(\n",
        "      trunc_wind_model, newdata \u003d truncated_validation),\n",
        "    rain_total_pred \u003d predict(\n",
        "      trunc_rain_model,\n",
        "      newdata \u003d truncated_validation)\n",
        "    )"
      ]
    },
    {
      "cell_type": "code",
      "metadata": {},
      "outputs": [],
      "execution_count": 0,
      "source": [
        "# Define a grid of hyperparameters same as used for the base model\n",
        "cp_values \u003c- seq(0.0001, 0.05, by \u003d 0.0005)\n",
        "maxdepth_values \u003c- c(3, 5, 7, 10)\n",
        "minsplit_values \u003c- c(10, 20, 30, 40)\n",
        "minbucket_values \u003c- c(5, 10, 20)\n",
        "\n",
        "# Create an empty list to store results\n",
        "results \u003c- data.frame(cp \u003d numeric(), maxdepth \u003d numeric(),\n",
        "                      minsplit \u003d numeric(), minbucket \u003d numeric(), RMSE \u003d numeric())\n",
        "\n",
        "\n",
        "\n",
        "# Train the model using manual grid search\n",
        "# Iterate over all combinations of hyperparameters\n",
        "for (cp in cp_values) {\n",
        "  for (maxdepth in maxdepth_values) {\n",
        "    for (minsplit in minsplit_values) {\n",
        "      for (minbucket in minbucket_values) {\n",
        "\n",
        "        # Train the model with specific hyperparameters\n",
        "        model \u003c- rpart(\n",
        "          damage_perc ~ wind_max_pred +\n",
        "            rain_total_pred +\n",
        "            roof_strong_wall_strong +\n",
        "            roof_strong_wall_light +\n",
        "            roof_strong_wall_salv +\n",
        "            roof_light_wall_strong +\n",
        "            roof_light_wall_light +\n",
        "            roof_light_wall_salv +\n",
        "            roof_salv_wall_strong +\n",
        "            roof_salv_wall_light +\n",
        "            roof_salv_wall_salv +\n",
        "            ls_risk_pct +\n",
        "            ss_risk_pct +\n",
        "            wind_blue_ss +\n",
        "            wind_yellow_ss +\n",
        "            wind_orange_ss +\n",
        "            wind_red_ss +\n",
        "            rain_blue_ss +\n",
        "            rain_yellow_ss +\n",
        "            rain_orange_ss +\n",
        "            rain_red_ss,\n",
        "          data \u003d df_trunc_train,\n",
        "          method \u003d \"anova\",  # Regression tree\n",
        "          control \u003d rpart.control(cp \u003d cp, maxdepth \u003d maxdepth,\n",
        "                                  minsplit \u003d minsplit, minbucket \u003d minbucket)\n",
        "        )\n",
        "\n",
        "        # Make predictions on the validation set\n",
        "        val_predictions \u003c- predict(model, newdata \u003d df_trunc_val)\n",
        "\n",
        "        # Compute RMSE\n",
        "        rmse_value \u003c- rmse(df_trunc_val$damage_perc, val_predictions)\n",
        "\n",
        "        # Store results\n",
        "        results \u003c- rbind(results, data.frame(cp, maxdepth, minsplit, minbucket, RMSE \u003d rmse_value))\n",
        "      }\n",
        "    }\n",
        "  }\n",
        "}\n",
        "\n",
        "# Print the best hyperparameter combination\n",
        "best_params \u003c- results[which.min(results$RMSE), ]\n",
        "print(best_params)"
      ]
    },
    {
      "cell_type": "code",
      "metadata": {},
      "outputs": [],
      "execution_count": 0,
      "source": [
        "# Training based on tuned parameters\n",
        "# Combining training data and validation data\n",
        "final_training_df  \u003c- rbind(df_trunc_train,\n",
        "                           df_trunc_val)\n",
        "\n",
        "trunc_damage_fit_reg \u003c- rpart(damage_perc ~ wind_max_pred +\n",
        "                           rain_total_pred +\n",
        "                           roof_strong_wall_strong +\n",
        "                           roof_strong_wall_light +\n",
        "                           roof_strong_wall_salv +\n",
        "                           roof_light_wall_strong +\n",
        "                           roof_light_wall_light +\n",
        "                           roof_light_wall_salv +\n",
        "                           roof_salv_wall_strong +\n",
        "                           roof_salv_wall_light +\n",
        "                           roof_salv_wall_salv +\n",
        "                           ls_risk_pct +\n",
        "                           ss_risk_pct +\n",
        "                           wind_blue_ss +\n",
        "                           wind_yellow_ss +\n",
        "                           wind_orange_ss +\n",
        "                           wind_red_ss +\n",
        "                           rain_blue_ss +\n",
        "                           rain_yellow_ss +\n",
        "                           rain_orange_ss +\n",
        "                           rain_red_ss +\n",
        "                           island_groups,\n",
        "                         method \u003d \"anova\",\n",
        "                         data \u003d final_training_df\n",
        "                             )"
      ]
    },
    {
      "cell_type": "code",
      "metadata": {},
      "outputs": [],
      "execution_count": 0,
      "source": [
        "# Sanity Check\n",
        "# RMSE on the trainset (training + validation)\n",
        "# Compute RMSE\n",
        "\n",
        "damage_pred  \u003c- predict(trunc_damage_fit_reg, newdata \u003d final_training_df)\n",
        "rmse_value \u003c- rmse(final_training_df$damage_perc, damage_pred)\n",
        "rmse_value"
      ]
    },
    {
      "cell_type": "code",
      "metadata": {},
      "outputs": [],
      "execution_count": 0,
      "source": [
        "# Recipe outputs\n",
        "managed_folder_path \u003c- dkuManagedFolderPath(\"dL4i4SKb\")\n",
        "\n",
        "saveRDS(trunc_damage_fit_reg, file \u003d paste0(managed_folder_path, \"/trunc_reg_min_model.rds\"))\n",
        "\n",
        "saveRDS(trunc_wind_model, file \u003d paste0(managed_folder_path, \"/trunc_wind_model.rds\"))\n",
        "\n",
        "saveRDS(trunc_rain_model, file \u003d paste0(managed_folder_path, \"/trunc_rain_model.rds\"))"
      ]
    }
  ]
}