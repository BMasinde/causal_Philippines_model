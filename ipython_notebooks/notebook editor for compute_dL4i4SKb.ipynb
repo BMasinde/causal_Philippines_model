{
  "nbformat": 4,
  "nbformat_minor": 0,
  "metadata": {
    "kernelspec": {
      "display_name": "R",
      "language": "R",
      "name": "ir"
    },
    "associatedRecipe": "compute_dL4i4SKb",
    "creator": "admin",
    "createdOn": 1740401186894,
    "tags": [
      "recipe-editor"
    ],
    "customFields": {}
  },
  "cells": [
    {
      "cell_type": "code",
      "metadata": {},
      "outputs": [],
      "execution_count": 0,
      "source": [
        "library(dataiku)\n",
        "\n",
        "# Recipe inputs\n",
        "truncated_train \u003c- dkuReadDataset(\"truncated_train\", samplingMethod\u003d\"head\", nbRows\u003d100000)\n",
        "truncated_validation \u003c- dkuReadDataset(\"truncated_validation\", samplingMethod\u003d\"head\", nbRows\u003d100000)\n",
        "\n",
        "\n",
        "\n",
        "# Recipe outputs\n",
        "trunk_scm_min_model \u003c- dkuManagedFolderPath(\"dL4i4SKb\")"
      ]
    }
  ]
}