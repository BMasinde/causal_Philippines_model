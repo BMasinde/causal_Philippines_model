{
  "metadata": {
    "kernelspec": {
      "name": "r-dku-venv-r_4_4_1",
      "display_name": "R (env R_4_4_1)",
      "language": "R"
    },
    "hide_input": false,
    "language_info": {
      "name": "R",
      "codemirror_mode": "r",
      "pygments_lexer": "r",
      "mimetype": "text/x-r-source",
      "file_extension": ".r",
      "version": "4.4.1"
    },
    "tags": [
      "recipe-editor"
    ],
    "associatedRecipe": "compute_UZJr2jaH",
    "customFields": {},
    "creator": "admin",
    "createdOn": 1740127855538,
    "modifiedBy": "admin"
  },
  "nbformat": 4,
  "nbformat_minor": 1,
  "cells": [
    {
      "execution_count": 0,
      "cell_type": "code",
      "metadata": {},
      "source": [
        "# Load required libraries\nlibrary(dataiku)\nlibrary(mlflow)"
      ],
      "outputs": []
    },
    {
      "execution_count": 0,
      "cell_type": "code",
      "metadata": {},
      "source": [
        "folder_path \u003c- dkuManagedFolderPath(\"XxDUuuYe\")\nprint(folder_path)"
      ],
      "outputs": []
    },
    {
      "execution_count": 0,
      "cell_type": "code",
      "metadata": {},
      "source": [
        "# List all files in the folder\nfile_list \u003c- dkuManagedFolderPath(folder_id)\n\n# Print files for debugging\nprint(\"Files in the Managed Folder:\")\nprint(file_list)"
      ],
      "outputs": []
    },
    {
      "execution_count": 0,
      "cell_type": "code",
      "metadata": {},
      "source": [
        "# Set up Dataiku Managed Folders\nscm_models \u003c- dkuManagedFolderPath(\"XxDUuuYe\")  # Input Managed Folder\nmlflow_output \u003c- dkuManagedFolderPath(\"UZJr2jaH\")  # Output Managed Folder\n\n# Define path to download the RDS file (temporary location)\nlocal_model_path \u003c- \"/tmp/base_wind_pred.rds\"\n\n# Download file from Dataiku Managed Folder\ndkuManagedFolderDownloadPath(\"XxDUuuYe\", \"base_wind_pred.rds\", local_model_path)\n\n# Check if the file exists\nif (!file.exists(local_model_path)) {\n  stop(\"Error: The RDS file could not be downloaded from the Managed Folder.\")\n}\n\n# Load the trained R model\nmodel \u003c- readRDS(local_model_path)\n\n# Set MLflow Tracking URI (optional: customize if using external MLflow server)\nmlflow_set_tracking_uri(\"file:///mlruns\")  # Change this if using a remote MLflow server\n\n# Start MLflow experiment\nmlflow_set_experiment(\"base_wind_prediction_experiment\")\n\n# Start MLflow run\nmlflow_start_run()\n\n# Log model metadata (optional)\nmlflow_log_param(\"model_type\", \"Regression Trees\")  # Example: specify model type\nmlflow_log_metric(\"RMSE\",7.0000)  # Example: log accuracy if available\n\n# Log the model in MLflow\nmlflow_rfunc_model(model, \"base_wind_model\")\n\n# Save MLflow model to the Managed Folder\nmlflow_model_path \u003c- file.path(mlflow_output, \"wind_model\")\nmlflow_save_model(model, mlflow_model_path)\n\n# End the MLflow run\nmlflow_end_run()\n\nprint(\"Model successfully logged in MLflow and saved to Dataiku Managed Folder.\")"
      ],
      "outputs": []
    }
  ]
}