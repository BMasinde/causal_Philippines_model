{
  "metadata": {
    "kernelspec": {
      "name": "r-dku-venv-r_4_4_1",
      "display_name": "R (env R_4_4_1)",
      "language": "R"
    },
    "hide_input": false,
    "language_info": {
      "name": "R",
      "codemirror_mode": "r",
      "pygments_lexer": "r",
      "mimetype": "text/x-r-source",
      "file_extension": ".r",
      "version": "4.4.1"
    },
    "modifiedBy": "admin",
    "tags": [
      "recipe-editor"
    ],
    "associatedRecipe": "compute_base_data_regions",
    "customFields": {},
    "creator": "admin",
    "createdOn": 1739960283035
  },
  "nbformat": 4,
  "nbformat_minor": 1,
  "cells": [
    {
      "execution_count": 0,
      "cell_type": "code",
      "metadata": {},
      "source": [
        "# Adding Regions to the base_inc_data\nlibrary(dataiku)\n\n\n# Regional data (corresponding code and names) are obtained from \n# the statistics office website: https://psa.gov.ph/classification/psgc. \n# Using the **way-back machine** for a snapshot of the year *19th June 2020*. \n# Particularly the file named *PSGC Publication March2020.xlsx*. The file is small \n# so we enter the data manually.\n\nIsland groups we get from Wikipedia: https://en.wikipedia.org/wiki/Island_groups_of_the_Philippines\n\nWE DO NOT HAVE THE NIR REGION IN THE DATASET\n\n# Recipe inputs\nbase_inc_data \u003c- dkuReadDataset(\"base_inc_data\", samplingMethod\u003d\"head\", nbRows\u003d100000)\n\n#\nbase_data_regions \u003c- base_inc_data # For this sample code, simply copy input to output\n\n#\n\n\n\n# Recipe outputs\ndkuWriteDataset(base_data_regions,\"base_data_regions\")"
      ],
      "outputs": []
    }
  ]
}