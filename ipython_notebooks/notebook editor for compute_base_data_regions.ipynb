{
  "nbformat": 4,
  "nbformat_minor": 0,
  "metadata": {
    "kernelspec": {
      "display_name": "R",
      "language": "R",
      "name": "ir"
    },
    "associatedRecipe": "compute_base_data_regions",
    "creator": "admin",
    "createdOn": 1739960283035,
    "tags": [
      "recipe-editor"
    ],
    "customFields": {}
  },
  "cells": [
    {
      "cell_type": "code",
      "metadata": {},
      "outputs": [],
      "execution_count": 0,
      "source": [
        "library(dataiku)\n",
        "\n",
        "# Recipe inputs\n",
        "base_inc_data \u003c- dkuReadDataset(\"base_inc_data\", samplingMethod\u003d\"head\", nbRows\u003d100000)\n",
        "\n",
        "# Compute recipe outputs from inputs\n",
        "# TODO: Replace this part by your actual code that computes the output, as a R dataframe or data table\n",
        "base_data_regions \u003c- base_inc_data # For this sample code, simply copy input to output\n",
        "\n",
        "\n",
        "# Recipe outputs\n",
        "dkuWriteDataset(base_data_regions,\"base_data_regions\")"
      ]
    }
  ]
}