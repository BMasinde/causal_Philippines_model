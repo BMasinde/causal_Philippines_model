{
  "nbformat": 4,
  "nbformat_minor": 0,
  "metadata": {
    "kernelspec": {
      "display_name": "R",
      "language": "R",
      "name": "ir"
    },
    "associatedRecipe": "compute_Xu27U2QF",
    "dkuGit": {
      "lastInteraction": 0
    },
    "creationTag": {
      "versionNumber": 0,
      "lastModifiedBy": {
        "login": "admin"
      },
      "lastModifiedOn": 1740387212880
    },
    "creator": "admin",
    "createdOn": 1740387212880,
    "tags": [
      "recipe-editor"
    ],
    "customFields": {}
  },
  "cells": [
    {
      "cell_type": "code",
      "metadata": {},
      "outputs": [],
      "execution_count": 0,
      "source": [
        "# Objective of recipe is to:\n",
        "# Predict on the scm_min_clas_model on the test set\n",
        "# Get the classification metrics on the test set"
      ]
    },
    {
      "cell_type": "code",
      "metadata": {},
      "outputs": [],
      "execution_count": 0,
      "source": [
        "library(dataiku)\n",
        "library(rpart)\n",
        "library(caret)\n",
        "library(pROC) # For AUC calculation\n",
        "library(dplyr)\n",
        "library(data.table)"
      ]
    },
    {
      "cell_type": "code",
      "metadata": {},
      "outputs": [],
      "execution_count": 0,
      "source": [
        "# Recipe inputs\n",
        "folder_path \u003c- dkuManagedFolderPath(\"xcPrnvPS\")\n",
        "base_test \u003c- dkuReadDataset(\"base_test\", samplingMethod\u003d\"head\", nbRows\u003d100000)\n",
        "\n",
        "\n",
        "# Construct the full file paths for the models\n",
        "clas_file_path \u003c- file.path(folder_path, \"base_clas_min_model.rds\")\n",
        "wind_file_path  \u003c- file.path(folder_path, \"base_wind_model.rds\")\n",
        "rain_file_path  \u003c- file.path(folder_path, \"base_rain_model.rds\")\n",
        "\n",
        "\n",
        "# read the .rds model\n",
        "base_clas_min_model  \u003c- readRDS(file_path)\n",
        "base_wind_model  \u003c- readRDS(wind_file_path)\n",
        "base_rain_model  \u003c- readRDS(rain_file_path)"
      ]
    },
    {
      "cell_type": "code",
      "metadata": {},
      "outputs": [],
      "execution_count": 0,
      "source": [
        "# predicting wind_max and rain \u0026 updating the base_test to df_base_test\n",
        "\n",
        "df_base_test  \u003c- base_test %\u003e%\n",
        "    mutate(\n",
        "    wind_max_pred \u003d predict(\n",
        "      base_wind_model, newdata \u003d base_test),\n",
        "    rain_total_pred \u003d predict(\n",
        "      base_rain_model,\n",
        "      newdata \u003d base_test)\n",
        "    )"
      ]
    },
    {
      "cell_type": "code",
      "metadata": {},
      "outputs": [],
      "execution_count": 0,
      "source": [
        "# predict for damage_binary\n",
        "# Make probability predictions for classification\n",
        "y_preds_prob \u003c- predict(base_clas_min_model, newdata \u003d df_base_test, type \u003d \"prob\")[,2]  # Probability of class 1"
      ]
    },
    {
      "cell_type": "code",
      "metadata": {},
      "outputs": [],
      "execution_count": 0,
      "source": [
        "# AUC\n",
        "# Compute AUC (better for classification)\n",
        "auc_value \u003c- auc(roc(df_base_test$damage_binary, y_preds_prob))\n",
        "auc_value"
      ]
    },
    {
      "cell_type": "code",
      "metadata": {},
      "outputs": [],
      "execution_count": 0,
      "source": [
        "# extracting probability that y_pred \u003d\u003d 1\n",
        "#y_preds_prob_1 \u003c- y_preds_prob[ ,2]\n",
        "\n",
        "## assigning final class based on threshold\n",
        "y_pred \u003c- ifelse(y_preds_prob \u003e 0.5, 1, 0)\n",
        "\n",
        "# using table function\n",
        "conf_matrix \u003c- table(predicted \u003d y_pred,\n",
        "                     actual \u003d df_base_test$damage_binary\n",
        "                     )\n",
        "print(conf_matrix)"
      ]
    },
    {
      "cell_type": "code",
      "metadata": {},
      "outputs": [],
      "execution_count": 0,
      "source": [
        "accuracy \u003c- sum(diag(conf_matrix)) / sum(conf_matrix)\n",
        "\n",
        "cat(\"test-set accuracy of minimal CLASSIFICATION SCM model:\", accuracy, sep \u003d \" \")"
      ]
    },
    {
      "cell_type": "code",
      "metadata": {},
      "outputs": [],
      "execution_count": 0,
      "source": [
        "# Extract recall and precision\n",
        "# Compute confusion matrix\n",
        "conf_matrix \u003c- confusionMatrix(as.factor(y_pred), as.factor(df_base_test$damage_binary), positive \u003d \"1\")\n",
        "recall \u003c- conf_matrix$byClass[\"Sensitivity\"]  # Recall (Sensitivity)\n",
        "precision \u003c- conf_matrix$byClass[\"Precision\"] # Precision\n",
        "\n",
        "# metrics in a table\n",
        "# Create a data frame with the metrics\n",
        "metrics_df \u003c- data.frame(\n",
        "  Metric \u003d c(\"Accuracy\", \"Recall\", \"Precision\"),\n",
        "  Value \u003d c(accuracy, recall, precision)\n",
        ")"
      ]
    },
    {
      "cell_type": "code",
      "metadata": {},
      "outputs": [],
      "execution_count": 0,
      "source": [
        "metrics_df"
      ]
    },
    {
      "cell_type": "code",
      "metadata": {},
      "outputs": [],
      "execution_count": 0,
      "source": [
        "# Recipe outputs\n",
        "metrics_folder_path \u003c- dkuManagedFolderPath(\"Xu27U2QF\")\n",
        "\n",
        "# Saving the predicted values\n",
        "# Define file path\n",
        "#file_path \u003c- file.path(metrics_folder_path, \"model_metrics.csv\")\n",
        "\n",
        "# Write to CSV\n",
        "#fwrite(metrics_df, file \u003d file_path, row.names \u003d FALSE)\n",
        "\n",
        "dkuWriteDataset(metrics_df, \"min_clas_metrics_df\")\n",
        "\n",
        "# Print message to confirm\n",
        "print(paste(\"Metrics saved to:\", metrics_folder_path))"
      ]
    }
  ]
}