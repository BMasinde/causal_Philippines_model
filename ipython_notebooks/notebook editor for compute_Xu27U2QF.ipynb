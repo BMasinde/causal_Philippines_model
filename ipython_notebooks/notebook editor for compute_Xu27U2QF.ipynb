{
  "metadata": {
    "kernelspec": {
      "name": "r-dku-venv-r_env",
      "display_name": "R (env R_env)",
      "language": "R"
    },
    "hide_input": false,
    "language_info": {
      "name": "R",
      "codemirror_mode": "r",
      "pygments_lexer": "r",
      "mimetype": "text/x-r-source",
      "file_extension": ".r",
      "version": "4.4.1"
    },
    "createdOn": 1740387212880,
    "customFields": {},
    "creator": "admin",
    "tags": [
      "recipe-editor"
    ],
    "associatedRecipe": "compute_Xu27U2QF",
    "modifiedBy": "admin"
  },
  "nbformat": 4,
  "nbformat_minor": 1,
  "cells": [
    {
      "execution_count": 0,
      "cell_type": "code",
      "metadata": {},
      "source": [
        "# Objective of recipe is to:\n# Predict on the scm_min_clas_model on the test set\n# Get the classification metrics on the test set"
      ],
      "outputs": []
    },
    {
      "execution_count": 0,
      "cell_type": "code",
      "metadata": {},
      "source": [
        "library(dataiku)\nlibrary(rpart)\nlibrary(caret)\nlibrary(pROC) # For AUC calculation"
      ],
      "outputs": []
    },
    {
      "execution_count": 0,
      "cell_type": "code",
      "metadata": {},
      "source": [
        "# Recipe inputs\nfolder_path \u003c- dkuManagedFolderPath(\"xcPrnvPS\")\nbase_test \u003c- dkuReadDataset(\"base_test\", samplingMethod\u003d\"head\", nbRows\u003d100000)\n\n# read the .rds model\n# Construct the full file path\nfile_path \u003c- file.path(folder_path, \"base_scm_clas_min_model\")\n\nclas_min_model  \u003c- readRDS(file_path)"
      ],
      "outputs": []
    },
    {
      "execution_count": 0,
      "cell_type": "code",
      "metadata": {},
      "source": [
        "?dkuManagedFolderDownloadPath"
      ],
      "outputs": []
    },
    {
      "execution_count": 0,
      "cell_type": "code",
      "metadata": {},
      "source": [
        "# Recipe outputs\nscm_clas_min_model_test \u003c- dkuManagedFolderPath(\"Xu27U2QF\")"
      ],
      "outputs": []
    }
  ]
}