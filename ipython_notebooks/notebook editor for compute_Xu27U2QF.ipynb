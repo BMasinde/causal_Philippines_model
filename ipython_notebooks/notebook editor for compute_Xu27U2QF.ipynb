{
  "metadata": {
    "kernelspec": {
      "name": "r-dku-venv-r_env",
      "display_name": "R (env R_env)",
      "language": "R"
    },
    "hide_input": false,
    "language_info": {
      "name": "R",
      "codemirror_mode": "r",
      "pygments_lexer": "r",
      "mimetype": "text/x-r-source",
      "file_extension": ".r",
      "version": "4.4.1"
    },
    "createdOn": 1740387212880,
    "customFields": {},
    "creator": "admin",
    "tags": [
      "recipe-editor"
    ],
    "associatedRecipe": "compute_Xu27U2QF",
    "modifiedBy": "admin"
  },
  "nbformat": 4,
  "nbformat_minor": 1,
  "cells": [
    {
      "execution_count": 0,
      "cell_type": "code",
      "metadata": {},
      "source": [
        "# Objective of recipe is to:\n# Predict on the scm_min_clas_model on the test set\n# Get the classification metrics on the test set"
      ],
      "outputs": []
    },
    {
      "execution_count": 0,
      "cell_type": "code",
      "metadata": {},
      "source": [
        "library(dataiku)\nlibrary(rpart)\nlibrary(caret)\nlibrary(pROC) # For AUC calculation\nlibrary(dplyr)"
      ],
      "outputs": []
    },
    {
      "execution_count": 0,
      "cell_type": "code",
      "metadata": {},
      "source": [
        "# Recipe inputs\nfolder_path \u003c- dkuManagedFolderPath(\"xcPrnvPS\")\nbase_test \u003c- dkuReadDataset(\"base_test\", samplingMethod\u003d\"head\", nbRows\u003d100000)\n\n\n# Construct the full file paths for the models\nclas_file_path \u003c- file.path(folder_path, \"base_clas_min_model.rds\")\nwind_file_path  \u003c- file.path(folder_path, \"base_wind_model.rds\")\nrain_file_path  \u003c- file.path(folder_path, \"base_rain_model.rds\")\n\n\n# read the .rds model\nbase_clas_min_model  \u003c- readRDS(file_path)\nbase_wind_model  \u003c- readRDS(wind_file_path)\nbase_rain_model  \u003c- readRDS(rain_file_path)\n"
      ],
      "outputs": []
    },
    {
      "execution_count": 0,
      "cell_type": "code",
      "metadata": {},
      "source": [
        "# predicting wind_max and rain \u0026 updating the base_test to df_base_test\n\ndf_base_test  \u003c- base_test %\u003e%\n    mutate(\n    wind_max_pred \u003d predict(\n      base_wind_model, newdata \u003d base_test),\n    rain_total_pred \u003d predict(\n      base_rain_model,\n      newdata \u003d base_test)\n    )"
      ],
      "outputs": []
    },
    {
      "execution_count": 0,
      "cell_type": "code",
      "metadata": {},
      "source": [
        "# predict for damage_binary\n# Make probability predictions for classification\ny_preds_prob \u003c- predict(base_clas_min_model, newdata \u003d df_base_test, type \u003d \"prob\")[,2]  # Probability of class 1"
      ],
      "outputs": []
    },
    {
      "execution_count": 0,
      "cell_type": "code",
      "metadata": {},
      "source": [
        "# AUC \n# Compute AUC (better for classification)\nauc_value \u003c- auc(roc(df_base_test$damage_binary, y_preds))\nauc_value"
      ],
      "outputs": []
    },
    {
      "execution_count": 0,
      "cell_type": "code",
      "metadata": {},
      "source": [
        ""
      ],
      "outputs": []
    },
    {
      "execution_count": 0,
      "cell_type": "code",
      "metadata": {},
      "source": [
        "# Recipe outputs\nscm_clas_min_model_test \u003c- dkuManagedFolderPath(\"Xu27U2QF\")"
      ],
      "outputs": []
    }
  ]
}