{
  "nbformat": 4,
  "nbformat_minor": 0,
  "metadata": {
    "kernelspec": {
      "display_name": "R",
      "language": "R",
      "name": "ir"
    },
    "associatedRecipe": "compute_Xu27U2QF",
    "creator": "admin",
    "createdOn": 1740387212880,
    "tags": [
      "recipe-editor"
    ],
    "customFields": {}
  },
  "cells": [
    {
      "cell_type": "code",
      "metadata": {},
      "outputs": [],
      "execution_count": 0,
      "source": [
        "library(dataiku)\n",
        "\n",
        "# Recipe inputs\n",
        "base_scm_clas_min_model \u003c- dkuManagedFolderPath(\"xcPrnvPS\")\n",
        "base_test \u003c- dkuReadDataset(\"base_test\", samplingMethod\u003d\"head\", nbRows\u003d100000)\n",
        "\n",
        "\n",
        "\n",
        "# Recipe outputs\n",
        "scm_clas_min_model_test \u003c- dkuManagedFolderPath(\"Xu27U2QF\")"
      ]
    }
  ]
}