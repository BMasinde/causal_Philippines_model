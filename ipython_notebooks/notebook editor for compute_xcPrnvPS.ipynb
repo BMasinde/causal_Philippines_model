{
  "nbformat": 4,
  "nbformat_minor": 0,
  "metadata": {
    "kernelspec": {
      "display_name": "R",
      "language": "R",
      "name": "ir"
    },
    "associatedRecipe": "compute_xcPrnvPS",
    "creator": "admin",
    "createdOn": 1740376599429,
    "tags": [
      "recipe-editor"
    ],
    "customFields": {}
  },
  "cells": [
    {
      "cell_type": "code",
      "metadata": {},
      "outputs": [],
      "execution_count": 0,
      "source": [
        "library(dataiku)\n",
        "\n",
        "# Recipe inputs\n",
        "base_train \u003c- dkuReadDataset(\"base_train\", samplingMethod\u003d\"head\", nbRows\u003d100000)\n",
        "base_validation \u003c- dkuReadDataset(\"base_validation\", samplingMethod\u003d\"head\", nbRows\u003d100000)\n",
        "\n",
        "\n",
        "\n",
        "# Recipe outputs\n",
        "base_scm_clas_min_model \u003c- dkuManagedFolderPath(\"xcPrnvPS\")"
      ]
    }
  ]
}