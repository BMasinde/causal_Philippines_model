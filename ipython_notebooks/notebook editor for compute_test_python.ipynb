{
  "metadata": {
    "kernelspec": {
      "name": "py-dku-venv-python3_12",
      "display_name": "Python (env python3_12)",
      "language": "python"
    },
    "hide_input": false,
    "language_info": {
      "name": "python",
      "version": "3.12.9",
      "mimetype": "text/x-python",
      "codemirror_mode": {
        "name": "ipython",
        "version": 3
      },
      "pygments_lexer": "ipython3",
      "nbconvert_exporter": "python",
      "file_extension": ".py"
    },
    "createdOn": 1740196672039,
    "dkuGit": {
      "lastInteraction": 0
    },
    "customFields": {},
    "creator": "admin",
    "creationTag": {
      "versionNumber": 0,
      "lastModifiedBy": {
        "login": "admin"
      },
      "lastModifiedOn": 1740196672039
    },
    "tags": [
      "deleted-recipe-editor"
    ],
    "modifiedBy": "admin"
  },
  "nbformat": 4,
  "nbformat_minor": 1,
  "cells": [
    {
      "execution_count": 0,
      "cell_type": "code",
      "metadata": {},
      "source": [
        "# -*- coding: utf-8 -*-\nimport dataiku\nimport pandas as pd, numpy as np\nfrom dataiku import pandasutils as pdu\n\n# Read recipe inputs\nmun_model_data \u003d dataiku.Dataset(\"mun_model_data\")\nmun_model_data_df \u003d mun_model_data.get_dataframe()\n\n\n# Compute recipe outputs from inputs\n# TODO: Replace this part by your actual code that computes the output, as a Pandas dataframe\n# NB: DSS also supports other kinds of APIs for reading and writing data. Please see doc.\n\ntest_python_df \u003d mun_model_data_df # For this sample code, simply copy input to output\n\n\n# Write recipe outputs\ntest_python \u003d dataiku.Dataset(\"test_python\")\ntest_python.write_with_schema(test_python_df)"
      ],
      "outputs": []
    },
    {
      "execution_count": 0,
      "cell_type": "code",
      "metadata": {},
      "source": [
        ""
      ],
      "outputs": []
    }
  ]
}