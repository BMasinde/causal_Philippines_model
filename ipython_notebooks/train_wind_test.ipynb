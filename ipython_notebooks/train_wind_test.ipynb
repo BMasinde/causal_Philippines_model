{
  "metadata": {
    "kernelspec": {
      "name": "r-dku-venv-r_4_4_1",
      "display_name": "R (env R_4_4_1)",
      "language": "R"
    },
    "hide_input": false,
    "language_info": {
      "name": "R",
      "codemirror_mode": "r",
      "pygments_lexer": "r",
      "mimetype": "text/x-r-source",
      "file_extension": ".r",
      "version": "4.4.1"
    },
    "tags": [],
    "analyzedDataset": "base_train",
    "customFields": {},
    "creator": "admin",
    "createdOn": 1740086219792,
    "modifiedBy": "admin"
  },
  "nbformat": 4,
  "nbformat_minor": 1,
  "cells": [
    {
      "execution_count": 0,
      "cell_type": "code",
      "metadata": {},
      "source": [
        "library(dataiku)"
      ],
      "outputs": []
    },
    {
      "execution_count": 0,
      "cell_type": "code",
      "metadata": {},
      "source": [
        "# Read the dataset as a R dataframe in memory\n# Note: here, we only read the first 100K rows. Other sampling options are available\ndf \u003c- dkuReadDataset(\"base_train\", samplingMethod\u003d\"head\", nbRows\u003d100000)"
      ],
      "outputs": []
    },
    {
      "execution_count": 0,
      "cell_type": "code",
      "metadata": {},
      "source": [
        ""
      ],
      "outputs": []
    }
  ]
}