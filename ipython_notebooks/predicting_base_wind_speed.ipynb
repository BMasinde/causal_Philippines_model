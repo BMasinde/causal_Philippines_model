{
  "metadata": {
    "kernelspec": {
      "name": "r-dku-venv-r_4_4_1",
      "display_name": "R (env R_4_4_1)",
      "language": "R"
    },
    "hide_input": false,
    "language_info": {
      "name": "R",
      "codemirror_mode": "r",
      "pygments_lexer": "r",
      "mimetype": "text/x-r-source",
      "file_extension": ".r",
      "version": "4.4.1"
    },
    "tags": [
      "recipe-editor"
    ],
    "associatedRecipe": "recipe_from_notebook_predicting_base_wind_speed",
    "creator": "admin",
    "dkuGit": {
      "lastInteraction": 0
    },
    "creationTag": {
      "versionNumber": 0,
      "lastModifiedBy": {
        "login": "admin"
      },
      "lastModifiedOn": 1740086812948
    },
    "createdOn": 1740086812948,
    "customFields": {},
    "modifiedBy": "admin"
  },
  "nbformat": 4,
  "nbformat_minor": 1,
  "cells": [
    {
      "execution_count": 0,
      "cell_type": "code",
      "metadata": {},
      "source": [
        "library(dataiku)\nlibrary(rpart)\n#library(mlflow)"
      ],
      "outputs": []
    },
    {
      "execution_count": 0,
      "cell_type": "code",
      "metadata": {},
      "source": [
        "# Read the dataset as a R dataframe in memory\n# Note: here, we only read the first 100K rows. Other sampling options are available\ndf_base_train \u003c- dkuReadDataset(\"base_train\", samplingMethod\u003d\"head\", nbRows\u003d100000)"
      ],
      "outputs": []
    },
    {
      "execution_count": 0,
      "cell_type": "code",
      "metadata": {},
      "source": [
        "# Training structural equation for wind speed\n# wind_speed \u003d f(track_min_dist, eps)\n\nbase_wind_max_model \u003c- rpart(wind_max ~ track_min_dist,\n                       data \u003d df_base_train,\n                       method \u003d \"anova\")"
      ],
      "outputs": []
    },
    {
      "execution_count": 0,
      "cell_type": "code",
      "metadata": {},
      "source": [
        "# Save the trained model in a Managed Folder\ndkuManagedFolderPath \u003c- dkuManagedFolderPath(\"scm_models\")\nsaveRDS(base_wind_max_model, file \u003d paste0(dkuManagedFolderPath, \"/base_wind_max_model.rds\"))"
      ],
      "outputs": []
    },
    {
      "execution_count": 0,
      "cell_type": "code",
      "metadata": {},
      "source": [
        "# Save model as a model object\n\nmodel_name \u003c- \"base_wind_model\"\n\n# Save the model object in Dataiku DSS\ndataiku::saveModel(model_name, base_wind_max_model)"
      ],
      "outputs": []
    },
    {
      "execution_count": 0,
      "cell_type": "code",
      "metadata": {},
      "source": [
        "# Save the trained model in a Managed Folder\n\n# Start MLflow run\n#mlflow_start_run()\n\n# Save model locally (as a temporary directory or file)\n#model_path \u003c- tempfile(\"mlflow_model_\")\n#mlflow_save_model(model, model_path)\n\n# Access the managed folder in Dataiku DSS\n#managed_folder \u003c- dataiku::managedFolder(\"scm_models\")\n\n# Define the path inside the managed folder\n#managed_folder_path \u003c- file.path(managed_folder$getPath(), \"base_wind_max_model\")\n\n# Copy the saved model to the managed folder\n#file.copy(model_path, managed_folder_path, recursive \u003d TRUE)\n\n# Log the parameters and metrics (optional)\n#mlflow_log_param(\"model_type\", \"Regression Tree\")\n#mlflow_log_metric(\"RMSE\", 0.95)"
      ],
      "outputs": []
    }
  ]
}