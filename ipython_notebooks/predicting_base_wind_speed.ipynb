{
  "nbformat": 4,
  "nbformat_minor": 0,
  "metadata": {
    "kernelspec": {
      "display_name": "R",
      "language": "R",
      "name": "ir"
    },
    "associatedRecipe": "recipe_from_notebook_predicting_base_wind_speed",
    "dkuGit": {
      "lastInteraction": 0
    },
    "creationTag": {
      "versionNumber": 0,
      "lastModifiedBy": {
        "login": "admin"
      },
      "lastModifiedOn": 1740086812948
    },
    "creator": "admin",
    "createdOn": 1740086812948,
    "tags": [
      "recipe-editor"
    ],
    "customFields": {}
  },
  "cells": [
    {
      "cell_type": "code",
      "metadata": {},
      "outputs": [],
      "execution_count": 0,
      "source": [
        "library(dataiku)\n",
        "library(rpart)\n",
        "library(dplyr)"
      ]
    },
    {
      "cell_type": "code",
      "metadata": {},
      "outputs": [],
      "execution_count": 0,
      "source": [
        "# Read the dataset as a R dataframe in memory\n",
        "# Note: here, we only read the first 100K rows. Other sampling options are available\n",
        "df_base_train \u003c- dkuReadDataset(\"base_train\", samplingMethod\u003d\"head\", nbRows\u003d100000)"
      ]
    },
    {
      "cell_type": "code",
      "metadata": {},
      "outputs": [],
      "execution_count": 0,
      "source": [
        "# Training structural equation for wind speed\n",
        "# wind_speed \u003d f(track_min_dist, eps)\n",
        "\n",
        "base_wind_max_model \u003c- rpart(wind_max ~ track_min_dist,\n",
        "                       data \u003d df_base_train,\n",
        "                       method \u003d \"anova\")"
      ]
    },
    {
      "cell_type": "code",
      "metadata": {},
      "outputs": [],
      "execution_count": 0,
      "source": [
        "# Training structural equation for rain speed\n",
        "# rain_total \u003d f(track_min_dist, eps)\n",
        "\n",
        "base_rain_total_model \u003c- rpart(rain_total ~ track_min_dist,\n",
        "                       data \u003d df_base_train,\n",
        "                       method \u003d \"anova\")"
      ]
    },
    {
      "cell_type": "code",
      "metadata": {},
      "outputs": [],
      "execution_count": 0,
      "source": [
        "# Adding the predicted parents\u0027 to the training dataset\n",
        "\n",
        "## predicting wind_max\n",
        "wind_max_pred \u003c- predict(base_wind_max_model,\n",
        "                         newdata \u003d df_base_train)\n",
        "\n",
        "## predicting rain_total\n",
        "rain_total_pred \u003c- predict(base_rain_total_model,\n",
        "                         newdata \u003d df_base_train)\n",
        "\n",
        "df_base_train \u003c- df_base_train %\u003e%\n",
        "  mutate(wind_max_pred \u003d wind_max_pred,\n",
        "         rain_total_pred \u003d rain_total_pred\n",
        "         )"
      ]
    },
    {
      "cell_type": "code",
      "metadata": {},
      "outputs": [],
      "execution_count": 0,
      "source": [
        "# Training decision tree for classification\n",
        "damage_fit_class \u003c- rpart(damage_binary ~ wind_max_pred +\n",
        "                           rain_total_pred +\n",
        "                           roof_strong_wall_strong +\n",
        "                           roof_strong_wall_light +\n",
        "                           roof_strong_wall_salv +\n",
        "                           roof_light_wall_strong +\n",
        "                           roof_light_wall_light +\n",
        "                           roof_light_wall_salv +\n",
        "                           roof_salv_wall_strong +\n",
        "                           roof_salv_wall_light +\n",
        "                           roof_salv_wall_salv +\n",
        "                           ls_risk_pct +\n",
        "                           ss_risk_pct +\n",
        "                           ruggedness_mean +\n",
        "                           slope_mean +\n",
        "                           wind_blue_ss +\n",
        "                           wind_yellow_ss +\n",
        "                           wind_orange_ss +\n",
        "                           wind_red_ss +\n",
        "                           rain_blue_ss +\n",
        "                           rain_yellow_ss +\n",
        "                           rain_orange_ss +\n",
        "                           rain_red_ss,\n",
        "                         method \u003d \"class\",\n",
        "                         data \u003d df_base_train\n",
        "                         )"
      ]
    },
    {
      "cell_type": "code",
      "metadata": {},
      "outputs": [],
      "execution_count": 0,
      "source": [
        "# Training decision tree for regression\n",
        "base_damage_fit_reg \u003c- rpart(damage_perc ~ wind_max_pred +\n",
        "                           rain_total_pred +\n",
        "                           roof_strong_wall_strong +\n",
        "                           roof_strong_wall_light +\n",
        "                           roof_strong_wall_salv +\n",
        "                           roof_light_wall_strong +\n",
        "                           roof_light_wall_light +\n",
        "                           roof_light_wall_salv +\n",
        "                           roof_salv_wall_strong +\n",
        "                           roof_salv_wall_light +\n",
        "                           roof_salv_wall_salv +\n",
        "                           ls_risk_pct +\n",
        "                           ss_risk_pct +\n",
        "                           ruggedness_mean +\n",
        "                           slope_mean +\n",
        "                           wind_blue_ss +\n",
        "                           wind_yellow_ss +\n",
        "                           wind_orange_ss +\n",
        "                           wind_red_ss +\n",
        "                           rain_blue_ss +\n",
        "                           rain_yellow_ss +\n",
        "                           rain_orange_ss +\n",
        "                           rain_red_ss,\n",
        "                         method \u003d \"anova\",\n",
        "                         data \u003d df_base_train\n",
        "                         )"
      ]
    },
    {
      "cell_type": "code",
      "metadata": {},
      "outputs": [],
      "execution_count": 0,
      "source": [
        "# Save the trained models in a Managed Folder\n",
        "dkuManagedFolderPath \u003c- dkuManagedFolderPath(\"scm_base_models\")\n",
        "\n",
        "# Saving wind model\n",
        "saveRDS(base_wind_max_model, file \u003d paste0(dkuManagedFolderPath, \"/base_wind_max_model.rds\"))\n",
        "\n",
        "# Saving rain model\n",
        "saveRDS(base_rain_total_model, file \u003d paste0(dkuManagedFolderPath, \"/base_rain_total_model.rds\"))\n",
        "\n",
        "# Saving classification model\n",
        "saveRDS(damage_fit_class, file \u003d paste0(dkuManagedFolderPath, \"/damage_fit_class_model.rds\"))\n",
        "\n",
        "# Saving base regression model\n",
        "saveRDS(base_damage_fit_reg, file \u003d paste0(dkuManagedFolderPath, \"/base_damage_fit_reg_model.rds\"))"
      ]
    },
    {
      "cell_type": "code",
      "metadata": {},
      "outputs": [],
      "execution_count": 0,
      "source": [
        "colnames(df_base_train)"
      ]
    }
  ]
}