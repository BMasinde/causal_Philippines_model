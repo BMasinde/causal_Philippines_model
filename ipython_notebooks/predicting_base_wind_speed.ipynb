{
  "metadata": {
    "kernelspec": {
      "name": "r-dku-venv-r_env",
      "display_name": "R (env R_env)",
      "language": "R"
    },
    "hide_input": false,
    "language_info": {
      "name": "R",
      "codemirror_mode": "r",
      "pygments_lexer": "r",
      "mimetype": "text/x-r-source",
      "file_extension": ".r",
      "version": "4.4.1"
    },
    "creator": "admin",
    "dkuGit": {
      "lastInteraction": 0
    },
    "creationTag": {
      "versionNumber": 0,
      "lastModifiedBy": {
        "login": "admin"
      },
      "lastModifiedOn": 1740086812948
    },
    "associatedRecipe": "recipe_from_notebook_predicting_base_wind_speed",
    "createdOn": 1740086812948,
    "tags": [
      "recipe-editor"
    ],
    "customFields": {},
    "modifiedBy": "admin"
  },
  "nbformat": 4,
  "nbformat_minor": 1,
  "cells": [
    {
      "execution_count": 0,
      "cell_type": "code",
      "metadata": {},
      "source": [
        "library(dataiku)\nlibrary(rpart)"
      ],
      "outputs": []
    },
    {
      "execution_count": 0,
      "cell_type": "code",
      "metadata": {},
      "source": [
        "# Read the dataset as a R dataframe in memory\n# Note: here, we only read the first 100K rows. Other sampling options are available\ndf_base_train \u003c- dkuReadDataset(\"base_train\", samplingMethod\u003d\"head\", nbRows\u003d100000)"
      ],
      "outputs": []
    },
    {
      "execution_count": 0,
      "cell_type": "code",
      "metadata": {},
      "source": [
        "# Training structural equation for wind speed\n# wind_speed \u003d f(track_min_dist, eps)\n\nbase_wind_max_model \u003c- rpart(wind_max ~ track_min_dist,\n                       data \u003d df_base_train,\n                       method \u003d \"anova\")"
      ],
      "outputs": []
    },
    {
      "execution_count": 0,
      "cell_type": "code",
      "metadata": {},
      "source": [
        "# Training structural equation for rain speed\n# rain_total \u003d f(track_min_dist, eps)\n\nbase_rain_total_model \u003c- rpart(rain_total ~ track_min_dist,\n                       data \u003d df_base_train,\n                       method \u003d \"anova\")"
      ],
      "outputs": []
    },
    {
      "execution_count": 0,
      "cell_type": "code",
      "metadata": {},
      "source": [
        "## Adding the predicted parents\u0027 to the training dataset\ndf_base_train \u003c- df_base_train %\u003e%\n  mutate(wind_max_pred \u003d wind_max_pred, \n         rain_total_pred \u003d rain_total_pred\n         )"
      ],
      "outputs": []
    },
    {
      "execution_count": 0,
      "cell_type": "code",
      "metadata": {},
      "source": [
        "# Training decision tree for classification \ndamage_perc_fit_class \u003c- rpart(Y ~ wind_max_pred + \n                           rain_total_pred + \n                           roof_strong_wall_strong + \n                           roof_strong_wall_light +\n                           roof_strong_wall_salv + \n                           roof_light_wall_strong + \n                           roof_light_wall_light + \n                           roof_light_wall_salv + \n                           roof_salv_wall_strong +\n                           roof_salv_wall_light +\n                           roof_salv_wall_salv +\n                           ls_risk_pct +\n                           ss_risk_pct +\n                           ruggedness_mean +\n                           slope_mean +\n                           wind_blue_ss +\n                           wind_yellow_ss +          \n                           wind_orange_ss +          \n                           wind_red_ss +\n                           rain_blue_ss +\n                           rain_yellow_ss +\n                           rain_orange_ss +\n                           rain_red_ss,\n                         method \u003d \"class\", \n                         data \u003d df_base_train\n                         )"
      ],
      "outputs": []
    },
    {
      "execution_count": 0,
      "cell_type": "code",
      "metadata": {},
      "source": [
        "# Training decision tree for regression\ndamage_perc_fit_class \u003c- rpart(Y ~ wind_max_pred + \n                           rain_total_pred + \n                           roof_strong_wall_strong + \n                           roof_strong_wall_light +\n                           roof_strong_wall_salv + \n                           roof_light_wall_strong + \n                           roof_light_wall_light + \n                           roof_light_wall_salv + \n                           roof_salv_wall_strong +\n                           roof_salv_wall_light +\n                           roof_salv_wall_salv +\n                           ls_risk_pct +\n                           ss_risk_pct +\n                           ruggedness_mean +\n                           slope_mean +\n                           wind_blue_ss +\n                           wind_yellow_ss +          \n                           wind_orange_ss +          \n                           wind_red_ss +\n                           rain_blue_ss +\n                           rain_yellow_ss +\n                           rain_orange_ss +\n                           rain_red_ss,\n                         method \u003d \"class\", \n                         data \u003d df_base_train\n                         )"
      ],
      "outputs": []
    },
    {
      "execution_count": 0,
      "cell_type": "code",
      "metadata": {},
      "source": [
        "# Save the trained models in a Managed Folder\ndkuManagedFolderPath \u003c- dkuManagedFolderPath(\"scm_base_models\")\n\n# Saving wind model\nsaveRDS(base_wind_max_model, file \u003d paste0(dkuManagedFolderPath, \"/base_wind_max_model.rds\"))\n\n# Saving rain model\nsaveRDS(base_rain_total_model, file \u003d paste0(dkuManagedFolderPath, \"/base_rain_total_model.rds\"))\n\n# Saving classification model\n\n# Saving base regression model\n\n"
      ],
      "outputs": []
    },
    {
      "execution_count": 0,
      "cell_type": "code",
      "metadata": {},
      "source": [
        "colnames()"
      ],
      "outputs": []
    }
  ]
}