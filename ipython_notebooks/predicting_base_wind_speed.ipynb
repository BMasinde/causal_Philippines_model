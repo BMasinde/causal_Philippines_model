{
  "metadata": {
    "kernelspec": {
      "name": "r-dku-venv-r_env",
      "display_name": "R (env R_env)",
      "language": "R"
    },
    "hide_input": false,
    "language_info": {
      "name": "R",
      "codemirror_mode": "r",
      "pygments_lexer": "r",
      "mimetype": "text/x-r-source",
      "file_extension": ".r",
      "version": "4.4.1"
    },
    "creator": "admin",
    "dkuGit": {
      "lastInteraction": 0
    },
    "creationTag": {
      "versionNumber": 0,
      "lastModifiedBy": {
        "login": "admin"
      },
      "lastModifiedOn": 1740086812948
    },
    "associatedRecipe": "recipe_from_notebook_predicting_base_wind_speed",
    "createdOn": 1740086812948,
    "tags": [
      "recipe-editor"
    ],
    "customFields": {},
    "modifiedBy": "admin"
  },
  "nbformat": 4,
  "nbformat_minor": 1,
  "cells": [
    {
      "execution_count": 0,
      "cell_type": "code",
      "metadata": {},
      "source": [
        "library(dataiku)\nlibrary(rpart)"
      ],
      "outputs": []
    },
    {
      "execution_count": 0,
      "cell_type": "code",
      "metadata": {},
      "source": [
        "# Read the dataset as a R dataframe in memory\n# Note: here, we only read the first 100K rows. Other sampling options are available\ndf_base_train \u003c- dkuReadDataset(\"base_train\", samplingMethod\u003d\"head\", nbRows\u003d100000)"
      ],
      "outputs": []
    },
    {
      "execution_count": 0,
      "cell_type": "code",
      "metadata": {},
      "source": [
        "# Training structural equation for wind speed\n# wind_speed \u003d f(track_min_dist, eps)\n\nbase_wind_max_model \u003c- rpart(wind_max ~ track_min_dist,\n                       data \u003d df_base_train,\n                       method \u003d \"anova\")"
      ],
      "outputs": []
    },
    {
      "execution_count": 0,
      "cell_type": "code",
      "metadata": {},
      "source": [
        "# Training structural equation for rain speed\n# rain \u003d f(track_min_dist, eps)\n\nbase_wind_max_model \u003c- rpart(wind_max ~ track_min_dist,\n                       data \u003d df_base_train,\n                       method \u003d \"anova\")"
      ],
      "outputs": []
    },
    {
      "execution_count": 0,
      "cell_type": "code",
      "metadata": {},
      "source": [
        "# Save the trained model in a Managed Folder\ndkuManagedFolderPath \u003c- dkuManagedFolderPath(\"scm_models\")\nsaveRDS(base_wind_max_model, file \u003d paste0(dkuManagedFolderPath, \"/base_wind_max_model.rds\"))"
      ],
      "outputs": []
    }
  ]
}