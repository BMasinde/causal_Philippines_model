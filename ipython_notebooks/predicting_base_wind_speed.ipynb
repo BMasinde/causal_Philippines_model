{
  "nbformat": 4,
  "nbformat_minor": 0,
  "metadata": {
    "kernelspec": {
      "display_name": "R",
      "language": "R",
      "name": "ir"
    },
    "associatedRecipe": "recipe_from_notebook_predicting_base_wind_speed",
    "dkuGit": {
      "lastInteraction": 0
    },
    "creationTag": {
      "versionNumber": 0,
      "lastModifiedBy": {
        "login": "admin"
      },
      "lastModifiedOn": 1740086812948
    },
    "creator": "admin",
    "createdOn": 1740086812948,
    "tags": [
      "recipe-editor"
    ],
    "customFields": {}
  },
  "cells": [
    {
      "cell_type": "code",
      "metadata": {},
      "outputs": [],
      "execution_count": 0,
      "source": [
        "library(dataiku)\n",
        "library(rpart)\n",
        "#library(mlflow)"
      ]
    },
    {
      "cell_type": "code",
      "metadata": {},
      "outputs": [],
      "execution_count": 0,
      "source": [
        "# Read the dataset as a R dataframe in memory\n",
        "# Note: here, we only read the first 100K rows. Other sampling options are available\n",
        "df_base_train \u003c- dkuReadDataset(\"base_train\", samplingMethod\u003d\"head\", nbRows\u003d100000)"
      ]
    },
    {
      "cell_type": "code",
      "metadata": {},
      "outputs": [],
      "execution_count": 0,
      "source": [
        "# Training structural equation for wind speed\n",
        "# wind_speed \u003d f(track_min_dist, eps)\n",
        "\n",
        "base_wind_max_model \u003c- rpart(wind_max ~ track_min_dist,\n",
        "                       data \u003d df_base_train,\n",
        "                       method \u003d \"anova\")"
      ]
    },
    {
      "cell_type": "code",
      "metadata": {},
      "outputs": [],
      "execution_count": 0,
      "source": [
        "# Save the trained model in a Managed Folder\n",
        "dkuManagedFolderPath \u003c- dkuManagedFolderPath(\"scm_models\")\n",
        "saveRDS(base_wind_max_model, file \u003d paste0(dkuManagedFolderPath, \"/base_wind_max_model.rds\"))"
      ]
    },
    {
      "cell_type": "code",
      "metadata": {},
      "outputs": [],
      "execution_count": 0,
      "source": [
        "# Save the trained model in a Managed Folder\n",
        "\n",
        "# Start MLflow run\n",
        "#mlflow_start_run()\n",
        "\n",
        "# Save model locally (as a temporary directory or file)\n",
        "#model_path \u003c- tempfile(\"mlflow_model_\")\n",
        "#mlflow_save_model(model, model_path)\n",
        "\n",
        "# Access the managed folder in Dataiku DSS\n",
        "#managed_folder \u003c- dataiku::managedFolder(\"scm_models\")\n",
        "\n",
        "# Define the path inside the managed folder\n",
        "#managed_folder_path \u003c- file.path(managed_folder$getPath(), \"base_wind_max_model\")\n",
        "\n",
        "# Copy the saved model to the managed folder\n",
        "#file.copy(model_path, managed_folder_path, recursive \u003d TRUE)\n",
        "\n",
        "# Log the parameters and metrics (optional)\n",
        "#mlflow_log_param(\"model_type\", \"Regression Tree\")\n",
        "#mlflow_log_metric(\"RMSE\", 0.95)"
      ]
    }
  ]
}