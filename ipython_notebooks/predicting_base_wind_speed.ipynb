{
  "metadata": {
    "kernelspec": {
      "name": "r-dku-venv-r_env",
      "display_name": "R (env R_env)",
      "language": "R"
    },
    "hide_input": false,
    "language_info": {
      "name": "R",
      "codemirror_mode": "r",
      "pygments_lexer": "r",
      "mimetype": "text/x-r-source",
      "file_extension": ".r",
      "version": "4.4.1"
    },
    "createdOn": 1740086812948,
    "dkuGit": {
      "lastInteraction": 0
    },
    "customFields": {},
    "creator": "admin",
    "creationTag": {
      "versionNumber": 0,
      "lastModifiedBy": {
        "login": "admin"
      },
      "lastModifiedOn": 1740086812948
    },
    "tags": [
      "recipe-editor"
    ],
    "associatedRecipe": "recipe_from_notebook_predicting_base_wind_speed",
    "modifiedBy": "admin"
  },
  "nbformat": 4,
  "nbformat_minor": 1,
  "cells": [
    {
      "execution_count": 0,
      "cell_type": "code",
      "metadata": {},
      "source": [
        "library(dataiku)\nlibrary(rpart)\nlibrary(dplyr)"
      ],
      "outputs": []
    },
    {
      "execution_count": 0,
      "cell_type": "code",
      "metadata": {},
      "source": [
        "# Read the dataset as a R dataframe in memory\n# Note: here, we only read the first 100K rows. Other sampling options are available\ndf_base_train \u003c- dkuReadDataset(\"base_train\", samplingMethod\u003d\"head\", nbRows\u003d100000)"
      ],
      "outputs": []
    },
    {
      "execution_count": 0,
      "cell_type": "code",
      "metadata": {},
      "source": [
        "# Training structural equation for wind speed\n# wind_speed \u003d f(track_min_dist, eps)\n\nbase_wind_max_model \u003c- rpart(wind_max ~ track_min_dist,\n                       data \u003d df_base_train,\n                       method \u003d \"anova\")"
      ],
      "outputs": []
    },
    {
      "execution_count": 0,
      "cell_type": "code",
      "metadata": {},
      "source": [
        "# Training structural equation for rain speed\n# rain_total \u003d f(track_min_dist, eps)\n\nbase_rain_total_model \u003c- rpart(rain_total ~ track_min_dist,\n                       data \u003d df_base_train,\n                       method \u003d \"anova\")"
      ],
      "outputs": []
    },
    {
      "execution_count": 0,
      "cell_type": "code",
      "metadata": {},
      "source": [
        "# Adding the predicted parents\u0027 to the training dataset\n\n## predicting wind_max\nwind_max_pred \u003c- predict(base_wind_max_model,\n                         newdata \u003d df_base_train)\n\n## predicting rain_total\nrain_total_pred \u003c- predict(base_rain_total_model,\n                         newdata \u003d df_base_train)\n\ndf_base_train \u003c- df_base_train %\u003e%\n  mutate(wind_max_pred \u003d wind_max_pred,\n         rain_total_pred \u003d rain_total_pred\n         )"
      ],
      "outputs": []
    },
    {
      "execution_count": 0,
      "cell_type": "code",
      "metadata": {},
      "source": [
        "# Training decision tree for classification\ndamage_fit_class_min \u003c- rpart(damage_binary ~ wind_max_pred +\n                           rain_total_pred +\n                           roof_strong_wall_strong +\n                           roof_strong_wall_light +\n                           roof_strong_wall_salv +\n                           roof_light_wall_strong +\n                           roof_light_wall_light +\n                           roof_light_wall_salv +\n                           roof_salv_wall_strong +\n                           roof_salv_wall_light +\n                           roof_salv_wall_salv +\n                           ls_risk_pct +\n                           ss_risk_pct +\n                           wind_blue_ss +\n                           wind_yellow_ss +\n                           wind_orange_ss +\n                           wind_red_ss +\n                           rain_blue_ss +\n                           rain_yellow_ss +\n                           rain_orange_ss +\n                           rain_red_ss,\n                         method \u003d \"class\",\n                         data \u003d df_base_train\n                         )"
      ],
      "outputs": []
    },
    {
      "execution_count": 0,
      "cell_type": "code",
      "metadata": {},
      "source": [
        "# Training decision tree for regression\nbase_damage_fit_reg_min \u003c- rpart(damage_perc ~ wind_max_pred +\n                           rain_total_pred +\n                           roof_strong_wall_strong +\n                           roof_strong_wall_light +\n                           roof_strong_wall_salv +\n                           roof_light_wall_strong +\n                           roof_light_wall_light +\n                           roof_light_wall_salv +\n                           roof_salv_wall_strong +\n                           roof_salv_wall_light +\n                           roof_salv_wall_salv +\n                           ls_risk_pct +\n                           ss_risk_pct +\n                           wind_blue_ss +\n                           wind_yellow_ss +\n                           wind_orange_ss +\n                           wind_red_ss +\n                           rain_blue_ss +\n                           rain_yellow_ss +\n                           rain_orange_ss +\n                           rain_red_ss,\n                         method \u003d \"anova\",\n                         data \u003d df_base_train\n                         )"
      ],
      "outputs": []
    },
    {
      "execution_count": 0,
      "cell_type": "code",
      "metadata": {},
      "source": [
        "# Save the trained models in a Managed Folder\ndkuManagedFolderPath \u003c- dkuManagedFolderPath(\"scm_base_models\")\n\n# Saving wind model\nsaveRDS(base_wind_max_model, file \u003d paste0(dkuManagedFolderPath, \"/base_wind_max_model.rds\"))\n\n# Saving rain model\nsaveRDS(base_rain_total_model, file \u003d paste0(dkuManagedFolderPath, \"/base_rain_total_model.rds\"))\n\n# Saving classification model\nsaveRDS(damage_fit_class_min, file \u003d paste0(dkuManagedFolderPath, \"/damage_fit_class_model.rds\"))\n\n# Saving base regression model\nsaveRDS(base_damage_fit_reg_min, file \u003d paste0(dkuManagedFolderPath, \"/base_damage_fit_reg_model.rds\"))"
      ],
      "outputs": []
    }
  ]
}