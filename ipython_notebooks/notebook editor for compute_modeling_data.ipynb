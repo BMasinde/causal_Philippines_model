{
  "metadata": {
    "kernelspec": {
      "name": "r-dku-venv-r_4_4_1",
      "display_name": "R (env R_4_4_1)",
      "language": "R"
    },
    "hide_input": false,
    "language_info": {
      "name": "R",
      "codemirror_mode": "r",
      "pygments_lexer": "r",
      "mimetype": "text/x-r-source",
      "file_extension": ".r",
      "version": "4.4.1"
    },
    "tags": [
      "recipe-editor"
    ],
    "associatedRecipe": "compute_modeling_data",
    "customFields": {},
    "creator": "admin",
    "createdOn": 1739965505918,
    "modifiedBy": "admin"
  },
  "nbformat": 4,
  "nbformat_minor": 1,
  "cells": [
    {
      "execution_count": 0,
      "cell_type": "code",
      "metadata": {},
      "source": [
        "# Recipe creates modeling_data\n# The output dataset modeling_data will be used for \ntraining and validating the causal model"
      ],
      "outputs": []
    },
    {
      "execution_count": 0,
      "cell_type": "code",
      "metadata": {},
      "source": [
        "library(dataiku)\n\n# Recipe inputs\nbase_data_regions \u003c- dkuReadDataset(\"base_data_regions\", samplingMethod\u003d\"head\", nbRows\u003d100000)\n\n# Compute recipe outputs from inputs\n# TODO: Replace this part by your actual code that computes the output, as a R dataframe or data table\nmodeling_data \u003c- base_data_regions # For this sample code, simply copy input to output\n\n\n# Recipe outputs\ndkuWriteDataset(modeling_data,\"modeling_data\")"
      ],
      "outputs": []
    },
    {
      "execution_count": 0,
      "cell_type": "code",
      "metadata": {},
      "source": [
        ""
      ],
      "outputs": []
    },
    {
      "execution_count": 0,
      "cell_type": "code",
      "metadata": {},
      "source": [
        ""
      ],
      "outputs": []
    },
    {
      "execution_count": 0,
      "cell_type": "code",
      "metadata": {},
      "source": [
        ""
      ],
      "outputs": []
    }
  ]
}