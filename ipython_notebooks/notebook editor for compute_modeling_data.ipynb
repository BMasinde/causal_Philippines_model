{
  "metadata": {
    "kernelspec": {
      "name": "r-dku-venv-r_4_4_1",
      "display_name": "R (env R_4_4_1)",
      "language": "R"
    },
    "hide_input": false,
    "language_info": {
      "name": "R",
      "codemirror_mode": "r",
      "pygments_lexer": "r",
      "mimetype": "text/x-r-source",
      "file_extension": ".r",
      "version": "4.4.1"
    },
    "tags": [
      "recipe-editor"
    ],
    "associatedRecipe": "compute_modeling_data",
    "customFields": {},
    "creator": "admin",
    "createdOn": 1739965505918,
    "modifiedBy": "admin"
  },
  "nbformat": 4,
  "nbformat_minor": 1,
  "cells": [
    {
      "execution_count": 0,
      "cell_type": "code",
      "metadata": {},
      "source": [
        "# Recipe creates modeling_data\n# The output dataset modeling_data will be used for \n# training and validating the causal model\n\n# libraries\nlibrary(dataiku)\nlibrary(dplyr)"
      ],
      "outputs": []
    },
    {
      "execution_count": 0,
      "cell_type": "code",
      "metadata": {},
      "source": [
        "# Recipe inputs: base_data_regions\nbase_data_regions \u003c- dkuReadDataset(\"base_data_regions\", samplingMethod\u003d\"head\", nbRows\u003d100000)\n\n# Compute recipe outputs from inputs\nmodeling_data \u003c- base_data_regions"
      ],
      "outputs": []
    },
    {
      "execution_count": 0,
      "cell_type": "code",
      "metadata": {},
      "source": [
        "# renaming columns in modeling_data\nbase_modeling_data \u003c- base_inc_data %\u003e%\n    rename(\n    rain_total \u003d HAZ_rainfall_Total,\n    rain_max6h \u003d HAZ_rainfall_max_6h,\n    rain_max24h \u003d HAZ_rainfall_max_24h,\n    wind_max \u003d HAZ_v_max,\n    track_min_dist \u003d HAZ_dis_track_min,\n    ls_risk_pct \u003d GEN_landslide_per,\n    ss_risk_pct \u003d GEN_stormsurge_per,\n    blue_ss_frac \u003d GEN_Bu_p_inSSA,\n    blue_ls_frac \u003d GEN_Bu_p_LS,\n    red_ls_frac \u003d GEN_Red_per_LSbldg,\n    orange_ls_frac \u003d GEN_Or_per_LSblg,\n    yellow_ss_frac \u003d GEN_Yel_per_LSSAb,\n    red_ss_frac \u003d GEN_RED_per_SSAbldg,\n    orange_ss_frac \u003d GEN_OR_per_SSAbldg,\n    yellow_ls_frac \u003d GEN_Yellow_per_LSbl, # this variable naming was inconsistent, that was annoying\n    slope_mean \u003d TOP_mean_slope,\n    elev_mean \u003d TOP_mean_elevation_m,\n    ruggedness_sd \u003d TOP_ruggedness_stdev,\n    ruggedness_mean \u003d TOP_mean_ruggedness,\n    slope_sd \u003d TOP_slope_stdev,\n    has_coast \u003d GEN_with_coast,\n    coast_length \u003d GEN_coast_length,\n    poverty_pct \u003d VUL_poverty_perc,\n    housing_units \u003d VUL_Housing_Units,\n    roof_strong_wall_strong \u003d VUL_StrongRoof_StrongWall,\n    roof_strong_wall_light \u003d VUL_StrongRoof_LightWall,\n    roof_strong_wall_salv \u003d VUL_StrongRoof_SalvageWall,\n    roof_light_wall_strong \u003d VUL_LightRoof_StrongWall,\n    roof_light_wall_light \u003d VUL_LightRoof_LightWall,\n    roof_light_wall_salv \u003d VUL_LightRoof_SalvageWall,\n    roof_salv_wall_strong \u003d VUL_SalvagedRoof_StrongWall,\n    roof_salv_wall_light \u003d VUL_SalvagedRoof_LightWall,\n    roof_salv_wall_salv \u003d VUL_SalvagedRoof_SalvageWall,\n    vulnerable_groups \u003d VUL_vulnerable_groups,\n    pantawid_benef \u003d VUL_pantawid_pamilya_beneficiary,\n    damage_perc \u003d DAM_perc_dmg\n  )"
      ],
      "outputs": []
    },
    {
      "execution_count": 0,
      "cell_type": "code",
      "metadata": {},
      "source": [
        "# Removing columns not needed for modeling\nbase_modeling_data \u003c- base_modeling_data %\u003e%\n    select(-Mun_Code,\n           -typhoon,\n           -Mun_Code_2,\n           -Unnamed..0,\n           -X10.Digit.Code,\n           -Correspondence.Code,\n           -vulnerable_groups,\n           -pantawid_benef,\n           -rain_max6h,\n           -rain_max24h,\n           -poverty_pct,\n           -housing_units,\n           -Municipality,\n           -Income.Class,\n           -Population.2020.Census.,\n           -poverty_pct\n          )\n\n# Handling NULL values in outcome (damage_perc)\n# Update DAM_perc_dmg column based on conditions\nmunicipality_tc_df$DAM_perc_dmg \u003c- with(municipality_tc_df, {\n  # Check if DAM_perc_dmg is NA and if wind_max is less than 25 and rain_total is less than 50\n  ifelse(\n    is.na(DAM_perc_dmg) \u0026 wind_max \u003c 25 \u0026 rain_total \u003c 50,  # condition to check\n    0,  # if condition is true, set DAM_perc_dmg to 0\n    DAM_perc_dmg  # otherwise, retain the original value of DAM_perc_dmg\n  )\n})\n\n# Creating a binary outcome (damage_binary) (1 \u003d damage_perc \u003e\u003d 10, 0 otherwise)\n\n\n# Interaction terms between wind and strom surge risk zones\n# And interaction terms between rainfall and landslide risk zones\n\n\n\n# Recipe outputs\ndkuWriteDataset(modeling_data,\"modeling_data\")"
      ],
      "outputs": []
    },
    {
      "execution_count": 0,
      "cell_type": "code",
      "metadata": {},
      "source": [
        ""
      ],
      "outputs": []
    },
    {
      "execution_count": 0,
      "cell_type": "code",
      "metadata": {},
      "source": [
        ""
      ],
      "outputs": []
    },
    {
      "execution_count": 0,
      "cell_type": "code",
      "metadata": {},
      "source": [
        ""
      ],
      "outputs": []
    }
  ]
}