{
  "metadata": {
    "kernelspec": {
      "name": "r-dku-venv-r_env",
      "display_name": "R (env R_env)",
      "language": "R"
    },
    "hide_input": false,
    "language_info": {
      "name": "R",
      "codemirror_mode": "r",
      "pygments_lexer": "r",
      "mimetype": "text/x-r-source",
      "file_extension": ".r",
      "version": "4.4.1"
    },
    "createdOn": 1740404151033,
    "associatedRecipe": "predict_base_xgb_reg_5NPBmWH1",
    "creationTag": {
      "versionNumber": 0,
      "lastModifiedBy": {
        "login": "admin"
      },
      "lastModifiedOn": 1740404151033
    },
    "customFields": {},
    "creator": "admin",
    "tags": [
      "recipe-editor"
    ],
    "dkuGit": {
      "lastInteraction": 0
    },
    "modifiedBy": "admin"
  },
  "nbformat": 4,
  "nbformat_minor": 1,
  "cells": [
    {
      "execution_count": 0,
      "cell_type": "code",
      "metadata": {},
      "source": [
        "library(dataiku)\nlibrary(rpart)\nlibrary(dplyr)\nlibrary(caret)\nlibrary(data.table)\nlibrary(mlflow)\nlibrary(reticulate)\nlibrary(Metrics)"
      ],
      "outputs": []
    },
    {
      "execution_count": 0,
      "cell_type": "code",
      "metadata": {},
      "source": [
        "# Recipe inputs\nclas_folder_path \u003c- dkuManagedFolderPath(\"xcPrnvPS\")\nbase_reg_path \u003c- dkuManagedFolderPath(\"ZijSaAqQ\")\ntrunc_reg_path \u003c- dkuManagedFolderPath(\"dL4i4SKb\")\n\n# Final Testing data ---------------------------------------------------------\n# Reading base_test data\nbase_test \u003c- dkuReadDataset(\"base_test\", samplingMethod\u003d\"head\", nbRows\u003d100000)\n\n# Redaing trunc_test data\ntruncated_test \u003c- dkuReadDataset(\"truncated_test\", samplingMethod\u003d\"head\", nbRows\u003d100000)\n# ----------------------------------------------------------------------------\n\n\n\n# Read the base .rds models --------------------------------------\n\n# reading classification model\nbase_clas_min_model  \u003c- readRDS(\n    file.path(clas_folder_path, \"base_clas_min_model.rds\")\n)\n\n# reading the base wind and rain models\nbase_track_model  \u003c- readRDS(\n    file.path(base_reg_path, \"base_track_model.rds\")\n)\n\nbase_wind_model  \u003c- readRDS(\n    file.path(base_reg_path, \"base_wind_model.rds\")\n)\nbase_rain_model  \u003c- readRDS(\n    file.path(base_reg_path, \"base_rain_model.rds\")\n)\n\n# base regression model\nbase_reg_model  \u003c- readRDS(\n    file.path(base_reg_path, \"base_reg_min_model.rds\")\n)\n\n# Reading the truncated .rds models -------------------------------\n\n# reading the truncated track, wind and rain models\ntrunc_track_model  \u003c- readRDS(\n    file.path(trunc_reg_path, \"trunc_track_model.rds\")\n)\n\ntrunc_wind_model  \u003c- readRDS(\n    file.path(trunc_reg_path, \"trunc_wind_model.rds\")\n)\ntrunc_rain_model  \u003c- readRDS(\n    file.path(trunc_reg_path, \"trunc_rain_model.rds\")\n)\n\n# base regression model\ntrunc_reg_model  \u003c- readRDS(\n    file.path(trunc_reg_path, \"trunc_reg_min_model.rds\")\n)"
      ],
      "outputs": []
    },
    {
      "execution_count": 0,
      "cell_type": "code",
      "metadata": {},
      "source": [
        "# Putting models into lists\n\n## trained SCM models on base data\nbase_models \u003c- list(\n  \"track_model\" \u003d base_track_model\n  \"wind_model\" \u003d base_wind_model,\n  \"rain_model\" \u003d base_rain_model,\n  \"base_reg_model\" \u003d base_reg_model\n)\n\n## trained SCM models on high impact data (damage \u003e\u003d 10)\n\nhigh_models \u003c- list(\n  \"track_model_high\" \u003d trunc_track_model,\n  \"wind_model_high\" \u003d trunc_wind_model,\n  \"rain_model_high\" \u003d trunc_rain_model,\n  \"high_reg_model\" \u003d  trunc_reg_model\n)"
      ],
      "outputs": []
    },
    {
      "execution_count": 0,
      "cell_type": "code",
      "metadata": {},
      "source": [
        "# HURDLE METHOD FUNCTION\n#\u0027 Title: Predict the building damage % from TCs\n#\u0027\n#\u0027 Function takes the test data \u0026 trained models and returns predicted building damages.\n#\u0027\n#\u0027 @param df A dataframe for prediction (can be the test set for testing hurdle method)\n#\u0027 @param class_model The trained model for classification\n#\u0027 @param scm_models_base A list of the SCM models for the base regression\n#\u0027 @param scm_models_high A list of SCM models for the high-impact regression\n#\u0027\n#\u0027\n\npredictDamage \u003c- function(df, class_model, scm_models_base, scm_models_high) {\n\n  ## common predictions btw class \u0026 base regression\n  track_base_pred   \u003c-  predict(scm_models_base$track_model,\n                               newdata \u003d df)\n    \n  wind_max_base_pred \u003c- predict(scm_models_base$wind_model,\n                         newdata \u003d df)\n\n  rain_total_base_pred \u003c- predict(scm_models_base$rain_model,\n                         newdata \u003d df)\n\n  ## adding predictions to the df\n  df \u003c- df %\u003e%\n  mutate(wind_max_pred \u003d wind_max_base_pred,\n         rain_total_pred \u003d rain_total_base_pred,\n         track_min_dist_pred \u003d track_base_pred\n         )\n  # factors cleaning for classification task\n  df$damage_binary_2 \u003c- factor(df$damage_binary,\n                                       levels \u003d c(\"0\", \"1\"),  # Your current levels\n                                       labels \u003d c(\"Damage_below_10\", \"Damage_above_10\"))  # New valid labels\n\n  ## Step 1: Predict the class label (whether the damage will exceed the threshold)\n  ## class_model should return predicted classes and not probs.\n  ## class_model expects variables \"wind_max_pred\" and \"rain_total_pred\" in dataframe df\n  ## type \u003d \"prob\" for custom threshold specification\n  prob_pred \u003c- predict(class_model, df, type \u003d \"prob\")[,2]  # Probability of class 1\n  ## assigning final class based on threshold\n  class_pred \u003c- ifelse(y_preds_probs \u003e 0.35, 1, 0) # low threhold of 0.35 can be changed to 0.65/0.75\n\n  class_pred  \u003c- factor(y_pred, levels \u003d c(\"0\", \"1\"),  # Your current levels\n                                       labels \u003d c(\"Damage_below_10\", \"Damage_above_10\"))  # New valid labels\n\n  ## Step 2: Predict the base damage percentage using the base regression model (for low impact cases)\n  ## base expects variables \"wind_max_pred\" and \"rain_total_pred\" in dataframe df\n  ## should return the predicted damage percentages\n  base_pred \u003c- predict(scm_models_base$base_reg_model, df)\n\n  ## Step 3: Predict the high-impact damage percentage using the high-impact\n  ### SCM models (for high impact cases)\n  ## wind and rainfall predictions are based on high impact data (damage \u003e\u003d 10)\n  track_base_pred   \u003c-  predict(scm_models_base$track_model,\n                               newdata \u003d df)\n  wind_max_pred_high \u003c- predict(scm_models_high$wind_model_high,\n                         newdata \u003d df)\n\n  rain_total_pred_high \u003c- predict(scm_models_high$rain_model_high,\n                         newdata \u003d df)\n  # add the predictions of wind and rainfall to the dataframe df\n  df \u003c- df %\u003e%\n    mutate(wind_max_pred \u003d wind_max_pred_high,\n           rain_total_pred \u003d rain_total_pred_high\n           )\n\n  high_pred \u003c- predict(scm_models_high$high_reg_model, df)\n\n  # Step 4: Apply the hurdle method logic\n  predicted_damage \u003c- ifelse(class_pred \u003d\u003d 1, high_pred, base_pred)\n\n  # Return the predicted damage\n  return(predicted_damage)\n}"
      ],
      "outputs": []
    },
    {
      "execution_count": 0,
      "cell_type": "code",
      "metadata": {},
      "source": [
        "# predicting on base test set data\n## because we already implemented the hurdle method\ndf_test \u003c- bind_rows(\n  base_test,\n  truncated_test\n)\npreds \u003c- predictDamage(\n  df \u003d df_test,\n  class_model \u003d base_clas_min_model,\n  scm_models_base \u003d base_models,\n  scm_models_high \u003d high_models\n)"
      ],
      "outputs": []
    },
    {
      "execution_count": 0,
      "cell_type": "code",
      "metadata": {},
      "source": [
        "# Define bin edges\n# Define bin edges\nbins \u003c- c(0, 0.00009, 1, 10, 50, 100)\n\n# Assign data to bins\nbin_labels \u003c- cut(df_test$damage_perc, breaks \u003d bins, include.lowest \u003d TRUE, right \u003d TRUE)\n\n# Create a data frame with actual, predicted, and bin labels\ndata \u003c- data.frame(\n  actual \u003d df_test$damage_perc,\n  predicted \u003d preds,\n  bin \u003d bin_labels\n)\n\n# Calculate RMSE per bin\nunique_bins \u003c- levels(data$bin) # Get unique bin labels\nrmse_by_bin \u003c- data.frame(bin \u003d unique_bins, rmse \u003d NA, count \u003d NA) # Initialize results data frame\n\nfor (i in seq_along(unique_bins)) {\n  bin_data \u003c- data[data$bin \u003d\u003d unique_bins[i], ] # Filter data for the current bin\n  rmse_by_bin$rmse[i] \u003c- sqrt(mean((bin_data$actual - bin_data$predicted)^2, na.rm \u003d TRUE)) # Calculate RMSE\n  rmse_by_bin$count[i] \u003c- nrow(bin_data) # Count observations in the bin\n}\n\n# Display RMSE by bin\nprint(rmse_by_bin)"
      ],
      "outputs": []
    },
    {
      "execution_count": 0,
      "cell_type": "code",
      "metadata": {},
      "source": [
        "# Writing binned RMSE to folder\n\n# Recipe outputs\nfolder_path \u003c- dkuManagedFolderPath(\"5NPBmWH1\")\n\n# Saving the predicted values\n# Define file path\nfile_path \u003c- file.path(folder_path, \"rmse_by_bin.csv\")\n\n# Write to CSV\nfwrite(as.data.frame(rmse_by_bin), file \u003d file_path, row.names \u003d FALSE)"
      ],
      "outputs": []
    }
  ]
}