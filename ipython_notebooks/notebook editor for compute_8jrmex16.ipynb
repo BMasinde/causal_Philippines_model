{
  "metadata": {
    "kernelspec": {
      "name": "r-dku-venv-r_env",
      "display_name": "R (env R_env)",
      "language": "R"
    },
    "hide_input": false,
    "language_info": {
      "name": "R",
      "codemirror_mode": "r",
      "pygments_lexer": "r",
      "mimetype": "text/x-r-source",
      "file_extension": ".r",
      "version": "4.4.1"
    },
    "createdOn": 1740371188662,
    "customFields": {},
    "creator": "admin",
    "tags": [
      "recipe-editor"
    ],
    "associatedRecipe": "compute_8jrmex16",
    "modifiedBy": "admin"
  },
  "nbformat": 4,
  "nbformat_minor": 1,
  "cells": [
    {
      "execution_count": 0,
      "cell_type": "code",
      "metadata": {},
      "source": [
        "# Libraries\nlibrary(dataiku)\nlibrary(rpart)\nlibrary(dplyr)\nlibrary(caret)\nlibrary(pROC) # For AUC calculation\nlibrary(data.table)"
      ],
      "outputs": []
    },
    {
      "execution_count": 0,
      "cell_type": "code",
      "metadata": {},
      "source": [
        "# Recipe inputs\n# Training data\ndf_base_train \u003c- dkuReadDataset(\"base_train\", samplingMethod\u003d\"head\", nbRows\u003d100000)\n\n# validation data \ndf_base_validation  \u003c- dkuReadDataset(\"base_validation\", samplingMethod\u003d\"head\", nbRows\u003d100000)"
      ],
      "outputs": []
    },
    {
      "execution_count": 0,
      "cell_type": "code",
      "metadata": {},
      "source": [
        "# Training structural equation for wind speed\n# wind_speed \u003d f(track_min_dist, eps)\n\nbase_wind_model \u003c- rpart(wind_max ~ track_min_dist,\n                       data \u003d df_base_train,\n                       method \u003d \"anova\")"
      ],
      "outputs": []
    },
    {
      "execution_count": 0,
      "cell_type": "code",
      "metadata": {},
      "source": [
        "# Training structural equation for rain speed\n# rain_total \u003d f(track_min_dist, eps)\n\nbase_rain_model \u003c- rpart(rain_total ~ track_min_dist,\n                       data \u003d df_base_train,\n                       method \u003d \"anova\")"
      ],
      "outputs": []
    },
    {
      "execution_count": 0,
      "cell_type": "code",
      "metadata": {},
      "source": [
        "# Adding the predicted parents\u0027 to the training dataset\n\n## predicting wind_max\n#wind_pred \u003c- predict(base_wind_model,\n#                         newdata \u003d df_base_train)\n\n## predicting rain_total\n#rain_total_pred \u003c- predict(base_rain_model,\n#                         newdata \u003d df_base_train)\n\ndf_base_train \u003c- df_base_train %\u003e%\n  mutate(wind_max_pred \u003d predict(base_wind_model,\n                                 newdata \u003d df_base_train),\n         rain_total_pred \u003d predict(base_rain_model, \n                                   newdata \u003d df_base_train)\n         )"
      ],
      "outputs": []
    },
    {
      "execution_count": 0,
      "cell_type": "code",
      "metadata": {},
      "source": [
        "# parameter tuning\n# Define a grid of hyperparameters\ncp_values \u003c- seq(0.0001, 0.05, by \u003d 0.005)\nmaxdepth_values \u003c- c(3, 5, 7, 10)\nminsplit_values \u003c- c(10, 20, 30, 40)\nminbucket_values \u003c- c(5, 10, 20)\n\n# Create an empty list to store results\nresults_list \u003c- list()\n\n# predicting for wind and rainfall for the validation dataset\ndf_val_base_tune \u003c- df_base_validation %\u003e%\n  mutate(\n    wind_max_pred \u003d predict(\n      base_wind_model, newdata \u003d df_base_validation),\n    rain_total_pred \u003d predict(\n      base_rain_model, \n      newdata \u003d df_base_validation)\n    )\n\n# Train the model using manual grid search\ngrid_id \u003c- 1  # Index for list storage\n\n# Iterate over all combinations of hyperparameters\nfor (cp in cp_values) {\n  for (maxdepth in maxdepth_values) {\n    for (minsplit in minsplit_values) {\n      for (minbucket in minbucket_values) {\n        \n        # Train the model with specific hyperparameters\n        model \u003c- rpart(\n          damage_binary ~ wind_max_pred + \n            rain_total_pred + \n            roof_strong_wall_strong + \n            roof_strong_wall_light + \n            roof_strong_wall_salv + \n            roof_light_wall_strong + \n            roof_light_wall_light + \n            roof_light_wall_salv + \n            roof_salv_wall_strong + \n            roof_salv_wall_light + \n            roof_salv_wall_salv + \n            ls_risk_pct + \n            ss_risk_pct + \n            wind_blue_ss + \n            wind_yellow_ss + \n            wind_orange_ss +\n            wind_red_ss + \n            rain_blue_ss + \n            rain_yellow_ss + \n            rain_orange_ss + \n            rain_red_ss,\n          data \u003d df_base_train,\n          method \u003d \"class\",  # classification\n          control \u003d rpart.control(cp \u003d cp, maxdepth \u003d maxdepth, \n                                  minsplit \u003d minsplit, minbucket \u003d minbucket)\n        )\n        \n        # Make probability predictions for classification\n        val_predictions \u003c- predict(model, newdata \u003d df_val_base_tune, type \u003d \"prob\")[,2]  # Probability of class 1\n        \n        # Compute AUC (better for classification)\n        auc_value \u003c- auc(df_val_base_tune$damage_binary, val_predictions)\n        \n        # Store results efficiently in a list\n        results_list[[grid_id]] \u003c- data.frame(cp, maxdepth, minsplit, minbucket, AUC \u003d auc_value)\n        grid_id \u003c- grid_id + 1\n      }\n    }\n  }\n}\n\n# Convert list to data frame\nresults \u003c- rbindlist(results_list)\n\n# Print the best hyperparameter combination (highest AUC)\nbest_params \u003c- results[which.max(results$AUC), ]\nprint(best_params)"
      ],
      "outputs": []
    },
    {
      "execution_count": 0,
      "cell_type": "code",
      "metadata": {},
      "source": [
        "# Training based on tuned parameters\n\n# Combine Training and Validation datasets for final training\n\nfinal_training_df  \u003c- rbind(df_base_train, \n                           df_val_base_tune)\n\n\ndamage_fit_class_min \u003c- rpart(damage_binary ~ wind_max_pred + \n                              rain_total_pred + \n                              roof_strong_wall_strong + \n                              roof_strong_wall_light +\n                              roof_strong_wall_salv +\n                              roof_light_wall_strong +\n                              roof_light_wall_light +\n                              roof_light_wall_salv +\n                              roof_salv_wall_strong +\n                              roof_salv_wall_light +\n                              roof_salv_wall_salv +\n                              ls_risk_pct +\n                              ss_risk_pct +\n                              wind_blue_ss +\n                              wind_yellow_ss +\n                              wind_orange_ss +\n                              wind_red_ss +\n                              rain_blue_ss +\n                              rain_yellow_ss +\n                              rain_orange_ss +\n                              rain_red_ss, \n                              method \u003d \"class\",\n                              control \u003d rpart.control(cp \u003d best_params_high$cp, \n                                                      maxdepth \u003d best_params_high$maxdepth, \n                                                      minsplit \u003d best_params_high$minsplit, \n                                                      minbucket \u003d best_params_high$minbucket),\n                              data \u003d final_training_df\n                         )"
      ],
      "outputs": []
    },
    {
      "execution_count": 0,
      "cell_type": "code",
      "metadata": {},
      "source": [
        "# Recipe outputs\nbase_scm_classification_min_model \u003c- dkuManagedFolderPath(\"8jrmex16\")"
      ],
      "outputs": []
    },
    {
      "execution_count": 0,
      "cell_type": "code",
      "metadata": {},
      "source": [
        "best_params"
      ],
      "outputs": []
    },
    {
      "execution_count": 0,
      "cell_type": "code",
      "metadata": {},
      "source": [
        "colnames(df_val_base_tune)"
      ],
      "outputs": []
    },
    {
      "execution_count": 0,
      "cell_type": "code",
      "metadata": {},
      "source": [
        "?rpart"
      ],
      "outputs": []
    },
    {
      "execution_count": 0,
      "cell_type": "code",
      "metadata": {},
      "source": [
        ""
      ],
      "outputs": []
    }
  ]
}