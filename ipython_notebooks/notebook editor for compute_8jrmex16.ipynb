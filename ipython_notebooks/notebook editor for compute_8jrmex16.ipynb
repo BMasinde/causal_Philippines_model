{
  "metadata": {
    "kernelspec": {
      "name": "r-dku-venv-r_env",
      "display_name": "R (env R_env)",
      "language": "R"
    },
    "hide_input": false,
    "language_info": {
      "name": "R",
      "codemirror_mode": "r",
      "pygments_lexer": "r",
      "mimetype": "text/x-r-source",
      "file_extension": ".r",
      "version": "4.4.1"
    },
    "createdOn": 1740371188662,
    "customFields": {},
    "creator": "admin",
    "tags": [
      "recipe-editor"
    ],
    "associatedRecipe": "compute_8jrmex16",
    "modifiedBy": "admin"
  },
  "nbformat": 4,
  "nbformat_minor": 1,
  "cells": [
    {
      "execution_count": 0,
      "cell_type": "code",
      "metadata": {},
      "source": [
        "# Libraries\nlibrary(dataiku)\nlibrary(rpart)\nlibrary(dplyr)"
      ],
      "outputs": []
    },
    {
      "execution_count": 0,
      "cell_type": "code",
      "metadata": {},
      "source": [
        "# Recipe inputs\n# Training data\ndf_base_train \u003c- dkuReadDataset(\"base_train\", samplingMethod\u003d\"head\", nbRows\u003d100000)\n\n# validation data \ndf_base_validation  \u003c- dkuReadDataset(\"base_validation\", samplingMethod\u003d\"head\", nbRows\u003d100000)"
      ],
      "outputs": []
    },
    {
      "execution_count": 0,
      "cell_type": "code",
      "metadata": {},
      "source": [
        "# Training structural equation for wind speed\n# wind_speed \u003d f(track_min_dist, eps)\n\nbase_wind_model \u003c- rpart(wind_max ~ track_min_dist,\n                       data \u003d df_base_train,\n                       method \u003d \"anova\")"
      ],
      "outputs": []
    },
    {
      "execution_count": 0,
      "cell_type": "code",
      "metadata": {},
      "source": [
        "# Training structural equation for rain speed\n# rain_total \u003d f(track_min_dist, eps)\n\nbase_rain_model \u003c- rpart(rain_total ~ track_min_dist,\n                       data \u003d df_base_train,\n                       method \u003d \"anova\")"
      ],
      "outputs": []
    },
    {
      "execution_count": 0,
      "cell_type": "code",
      "metadata": {},
      "source": [
        "# Adding the predicted parents\u0027 to the training dataset\n\n## predicting wind_max\nwind_pred \u003c- predict(base_wind_model,\n                         newdata \u003d df_base_train)\n\n## predicting rain_total\nrain_total_pred \u003c- predict(base_rain_model,\n                         newdata \u003d df_base_train)\n\ndf_base_train \u003c- df_base_train %\u003e%\n  mutate(wind_max_pred \u003d wind_max_pred,\n         rain_total_pred \u003d rain_total_pred\n         )"
      ],
      "outputs": []
    },
    {
      "execution_count": 0,
      "cell_type": "code",
      "metadata": {},
      "source": [
        "# Training decision tree for classification\ndamage_fit_class_min \u003c- rpart(damage_binary ~ wind_max_pred +\n                           rain_total_pred +\n                           roof_strong_wall_strong +\n                           roof_strong_wall_light +\n                           roof_strong_wall_salv +\n                           roof_light_wall_strong +\n                           roof_light_wall_light +\n                           roof_light_wall_salv +\n                           roof_salv_wall_strong +\n                           roof_salv_wall_light +\n                           roof_salv_wall_salv +\n                           ls_risk_pct +\n                           ss_risk_pct +\n                           wind_blue_ss +\n                           wind_yellow_ss +\n                           wind_orange_ss +\n                           wind_red_ss +\n                           rain_blue_ss +\n                           rain_yellow_ss +\n                           rain_orange_ss +\n                           rain_red_ss,\n                         method \u003d \"class\",\n                         data \u003d df_base_train\n                         )"
      ],
      "outputs": []
    },
    {
      "execution_count": 0,
      "cell_type": "code",
      "metadata": {},
      "source": [
        "# Recipe outputs\nbase_scm_classification_min_model \u003c- dkuManagedFolderPath(\"8jrmex16\")"
      ],
      "outputs": []
    }
  ]
}