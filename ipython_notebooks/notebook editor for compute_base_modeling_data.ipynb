{
  "nbformat": 4,
  "nbformat_minor": 0,
  "metadata": {
    "kernelspec": {
      "display_name": "R",
      "language": "R",
      "name": "ir"
    },
    "associatedRecipe": "compute_base_modeling_data",
    "dkuGit": {
      "lastInteraction": 0
    },
    "creationTag": {
      "versionNumber": 0,
      "lastModifiedBy": {
        "login": "admin"
      },
      "lastModifiedOn": 1739957019453
    },
    "creator": "admin",
    "createdOn": 1739957019453,
    "tags": [
      "recipe-editor"
    ],
    "customFields": {}
  },
  "cells": [
    {
      "cell_type": "code",
      "metadata": {},
      "outputs": [],
      "execution_count": 0,
      "source": [
        "library(dataiku)\n",
        "library(dplyr)\n",
        "\n",
        "# Recipe inputs\n",
        "base_inc_data \u003c- dkuReadDataset(\"base_inc_data\", samplingMethod\u003d\"head\", nbRows\u003d100000)\n",
        "\n",
        "# Compute recipe outputs from inputs\n",
        "## Renaming columns\n",
        "base_modeling_data \u003c- base_inc_data %\u003e%\n",
        "    rename(\n",
        "    rain_total \u003d HAZ_rainfall_Total,\n",
        "    rain_max6h \u003d HAZ_rainfall_max_6h,\n",
        "    rain_max24h \u003d HAZ_rainfall_max_24h,\n",
        "    wind_max \u003d HAZ_v_max,\n",
        "    track_min_dist \u003d HAZ_dis_track_min,\n",
        "    ls_risk_pct \u003d GEN_landslide_per,\n",
        "    ss_risk_pct \u003d GEN_stormsurge_per,\n",
        "    blue_ss_frac \u003d GEN_Bu_p_inSSA,\n",
        "    blue_ls_frac \u003d GEN_Bu_p_LS,\n",
        "    red_ls_frac \u003d GEN_Red_per_LSbldg,\n",
        "    orange_ls_frac \u003d GEN_Or_per_LSblg,\n",
        "    yellow_ss_frac \u003d GEN_Yel_per_LSSAb,\n",
        "    red_ss_frac \u003d GEN_RED_per_SSAbldg,\n",
        "    orange_ss_frac \u003d GEN_OR_per_SSAbldg,\n",
        "    yellow_ls_frac \u003d GEN_Yellow_per_LSbl, # this variable naming was inconsistent, that was annoying\n",
        "    slope_mean \u003d TOP_mean_slope,\n",
        "    elev_mean \u003d TOP_mean_elevation_m,\n",
        "    ruggedness_sd \u003d TOP_ruggedness_stdev,\n",
        "    ruggedness_mean \u003d TOP_mean_ruggedness,\n",
        "    slope_sd \u003d TOP_slope_stdev,\n",
        "    has_coast \u003d GEN_with_coast,\n",
        "    coast_length \u003d GEN_coast_length,\n",
        "    poverty_pct \u003d VUL_poverty_perc,\n",
        "    housing_units \u003d VUL_Housing_Units,\n",
        "    roof_strong_wall_strong \u003d VUL_StrongRoof_StrongWall,\n",
        "    roof_strong_wall_light \u003d VUL_StrongRoof_LightWall,\n",
        "    roof_strong_wall_salv \u003d VUL_StrongRoof_SalvageWall,\n",
        "    roof_light_wall_strong \u003d VUL_LightRoof_StrongWall,\n",
        "    roof_light_wall_light \u003d VUL_LightRoof_LightWall,\n",
        "    roof_light_wall_salv \u003d VUL_LightRoof_SalvageWall,\n",
        "    roof_salv_wall_strong \u003d VUL_SalvagedRoof_StrongWall,\n",
        "    roof_salv_wall_light \u003d VUL_SalvagedRoof_LightWall,\n",
        "    roof_salv_wall_salv \u003d VUL_SalvagedRoof_SalvageWall,\n",
        "    vulnerable_groups \u003d VUL_vulnerable_groups,\n",
        "    pantawid_benef \u003d VUL_pantawid_pamilya_beneficiary,\n",
        "    DAM_perc_dmg \u003d damage_perc\n",
        "  )\n",
        "\n",
        "## Keeping only columns needed for modeling\n",
        "base_modeling_data \u003c- base_modeling_data %\u003e%\n",
        "    select(-Mun_code,\n",
        "           -typhoon,\n",
        "           -Mun_code2,\n",
        "           -Unnamed..0,\n",
        "           -X10.Digit.Code,\n",
        "           Correspondence.Code,\n",
        "           -vulnerable_groups,\n",
        "           -pantawid_benef,\n",
        "           -rain_max6h,\n",
        "           -rain_max24h,\n",
        "           -poverty_pct,\n",
        "           -housing_units,\n",
        "           -Municipality,\n",
        "           -Income.Class,\n",
        "           -Population.2020.Census.\n",
        "          )\n",
        "\n",
        "\n",
        "# Recipe outputs\n",
        "dkuWriteDataset(base_modeling_data,\"base_modeling_data\")"
      ]
    }
  ]
}