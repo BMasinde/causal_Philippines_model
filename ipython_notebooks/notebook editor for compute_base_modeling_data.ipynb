{
  "metadata": {
    "kernelspec": {
      "display_name": "R",
      "language": "R",
      "name": "ir"
    },
    "hide_input": false,
    "creator": "admin",
    "customFields": {},
    "tags": [
      "recipe-editor"
    ],
    "associatedRecipe": "compute_base_modeling_data",
    "createdOn": 1739957019453,
    "modifiedBy": "admin"
  },
  "nbformat": 4,
  "nbformat_minor": 1,
  "cells": [
    {
      "execution_count": 0,
      "cell_type": "code",
      "metadata": {},
      "source": [
        "library(dataiku)\nlibrary(dplyr)\n\n# Recipe inputs\nbase_inc_data \u003c- dkuReadDataset(\"base_inc_data\", samplingMethod\u003d\"head\", nbRows\u003d100000)\n\n# Compute recipe outputs from inputs\nbase_modeling_data \u003c- base_inc_data %\u003e%\n\n\n\n# Recipe outputs\ndkuWriteDataset(base_modeling_data,\"base_modeling_data\")"
      ],
      "outputs": []
    }
  ]
}