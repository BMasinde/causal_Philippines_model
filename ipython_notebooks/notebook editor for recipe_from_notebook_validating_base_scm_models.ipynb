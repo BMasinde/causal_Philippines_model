{
  "metadata": {
    "kernelspec": {
      "name": "r-dku-venv-r_env",
      "display_name": "R (env R_env)",
      "language": "R"
    },
    "hide_input": false,
    "language_info": {
      "name": "R",
      "codemirror_mode": "r",
      "pygments_lexer": "r",
      "mimetype": "text/x-r-source",
      "file_extension": ".r",
      "version": "4.4.1"
    },
    "createdOn": 1740369391518,
    "dkuGit": {
      "lastInteraction": 0
    },
    "customFields": {},
    "creator": "admin",
    "creationTag": {
      "versionNumber": 0,
      "lastModifiedBy": {
        "login": "admin"
      },
      "lastModifiedOn": 1740369391518
    },
    "tags": [
      "deleted-recipe-editor"
    ],
    "modifiedBy": "admin"
  },
  "nbformat": 4,
  "nbformat_minor": 1,
  "cells": [
    {
      "execution_count": 0,
      "cell_type": "code",
      "metadata": {},
      "source": [
        "library(dataiku)\nlibrary(rpart)"
      ],
      "outputs": []
    },
    {
      "execution_count": 0,
      "cell_type": "code",
      "metadata": {},
      "source": [
        "# Recipe inputs\nscm_base_models \u003c- dkuManagedFolderPath(\"scm_base_models\")\nbase_validation \u003c- dkuReadDataset(\"base_validation\", samplingMethod\u003d\"head\", nbRows\u003d100000)\n\n# Reading .rds files\n# Construct the full file path\nwind_path \u003c- file.path(scm_base_models, \"base_wind_max_model.rds\")\n\nrain_path  \u003c- file.path(scm_base_models, \"base_rain_total_model.rds\")\n\ndamage_reg_path  \u003c- file.path(scm_base_models, \"base_damage_fit_reg_min_model.rds\")\n\ndamage_clas_path  \u003c- file.path(scm_base_models, \"damage_fit_class_min_model.rds\")\n\n# Read the RDS file\nwind_model \u003c- readRDS(wind_path)\n\nrain_model  \u003c- readRDS(rain_path)\n\ndamage_reg_model  \u003c- readRDS(damage_reg_path)\n\ndamage_clas_model  \u003c- readRDS(damage_clas_path)"
      ],
      "outputs": []
    },
    {
      "execution_count": 0,
      "cell_type": "code",
      "metadata": {},
      "source": [
        "# Recipe outputs\nbase_val_scm_models \u003c- dkuManagedFolderPath(\"ZMqSlX9h\")"
      ],
      "outputs": []
    }
  ]
}